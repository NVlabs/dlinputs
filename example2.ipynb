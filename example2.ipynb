{
 "cells": [
  {
   "cell_type": "code",
   "execution_count": 1,
   "metadata": {},
   "outputs": [],
   "source": [
    "from __future__ import print_function\n",
    "\n",
    "import os\n",
    "import sys\n",
    "import argparse\n",
    "\n",
    "import torch\n",
    "import torch.nn as nn\n",
    "import torch.optim as optim\n",
    "import torch.nn.functional as F\n",
    "import torch.backends.cudnn as cudnn\n",
    "from torch.autograd import Variable\n",
    "from torch.optim.lr_scheduler import MultiStepLR\n",
    "\n",
    "import torchvision\n",
    "import torchvision.transforms as transforms\n",
    "\n",
    "# import tensorboard_logger as logger\n",
    "from tensorboardX import SummaryWriter\n",
    "\n",
    "import pdb\n",
    "from datetime import datetime\n",
    "\n",
    "import calendar\n",
    "import time\n",
    "import numpy as np\n",
    "\n",
    "USE_CUDA = torch.cuda.is_available()"
   ]
  },
  {
   "cell_type": "code",
   "execution_count": 9,
   "metadata": {},
   "outputs": [],
   "source": [
    "from dlinputs import tarrecords\n",
    "from dlinputs import gopen\n",
    "from dlinputs import paths\n",
    "from resnet import Model"
   ]
  },
  {
   "cell_type": "code",
   "execution_count": 3,
   "metadata": {},
   "outputs": [],
   "source": [
    "parser = argparse.ArgumentParser(description='PyTorch CIFAR Training')\n",
    "parser.add_argument('--epochs', type=int, default=300, metavar='N')\n",
    "parser.add_argument('--lr', default=0.1, type=float, help='learning rate')\n",
    "parser.add_argument('--batch-size', type=int, default=3, metavar='N')\n",
    "parser.add_argument('--test-batch-size', type=int, default=128, metavar='N')\n",
    "parser.add_argument('--log-interval', type=int, default=25, metavar='N')\n",
    "parser.add_argument('--validate-interval', type=int, default=1, metavar='N')\n",
    "parser.add_argument('--weight-decay', type=float, default=1e-4)\n",
    "parser.add_argument('--devices', type=int, default=1, metavar='N')\n",
    "args = parser.parse_args(\"\")"
   ]
  },
  {
   "cell_type": "code",
   "execution_count": 10,
   "metadata": {},
   "outputs": [
    {
     "ename": "NameError",
     "evalue": "name 'MemNet' is not defined",
     "output_type": "error",
     "traceback": [
      "\u001b[0;31m---------------------------------------------------------------------------\u001b[0m",
      "\u001b[0;31mNameError\u001b[0m                                 Traceback (most recent call last)",
      "\u001b[0;32m<ipython-input-10-f29d3ae529cf>\u001b[0m in \u001b[0;36m<module>\u001b[0;34m()\u001b[0m\n\u001b[0;32m----> 1\u001b[0;31m \u001b[0mnet\u001b[0m \u001b[0;34m=\u001b[0m \u001b[0mModel\u001b[0m\u001b[0;34m(\u001b[0m\u001b[0;34m)\u001b[0m\u001b[0;34m\u001b[0m\u001b[0m\n\u001b[0m\u001b[1;32m      2\u001b[0m \u001b[0;34m\u001b[0m\u001b[0m\n\u001b[1;32m      3\u001b[0m \u001b[0;32mif\u001b[0m \u001b[0mUSE_CUDA\u001b[0m\u001b[0;34m:\u001b[0m\u001b[0;34m\u001b[0m\u001b[0m\n\u001b[1;32m      4\u001b[0m     \u001b[0mnet\u001b[0m\u001b[0;34m.\u001b[0m\u001b[0mcuda\u001b[0m\u001b[0;34m(\u001b[0m\u001b[0;34m)\u001b[0m\u001b[0;34m\u001b[0m\u001b[0m\n\u001b[1;32m      5\u001b[0m \u001b[0;34m\u001b[0m\u001b[0m\n",
      "\u001b[0;32m~/Workspaces/dlinputs/resnet.py\u001b[0m in \u001b[0;36m__init__\u001b[0;34m(self)\u001b[0m\n\u001b[1;32m     79\u001b[0m \u001b[0;32mclass\u001b[0m \u001b[0mModel\u001b[0m\u001b[0;34m(\u001b[0m\u001b[0mnn\u001b[0m\u001b[0;34m.\u001b[0m\u001b[0mModule\u001b[0m\u001b[0;34m)\u001b[0m\u001b[0;34m:\u001b[0m\u001b[0;34m\u001b[0m\u001b[0m\n\u001b[1;32m     80\u001b[0m         \u001b[0;32mdef\u001b[0m \u001b[0m__init__\u001b[0m\u001b[0;34m(\u001b[0m\u001b[0mself\u001b[0m\u001b[0;34m)\u001b[0m\u001b[0;34m:\u001b[0m\u001b[0;34m\u001b[0m\u001b[0m\n\u001b[0;32m---> 81\u001b[0;31m                 \u001b[0msuper\u001b[0m\u001b[0;34m(\u001b[0m\u001b[0mMemNet\u001b[0m\u001b[0;34m,\u001b[0m \u001b[0mself\u001b[0m\u001b[0;34m)\u001b[0m\u001b[0;34m.\u001b[0m\u001b[0m__init__\u001b[0m\u001b[0;34m(\u001b[0m\u001b[0;34m)\u001b[0m\u001b[0;34m\u001b[0m\u001b[0m\n\u001b[0m\u001b[1;32m     82\u001b[0m \u001b[0;34m\u001b[0m\u001b[0m\n\u001b[1;32m     83\u001b[0m                 \u001b[0;31m# img size 32x32\u001b[0m\u001b[0;34m\u001b[0m\u001b[0;34m\u001b[0m\u001b[0m\n",
      "\u001b[0;31mNameError\u001b[0m: name 'MemNet' is not defined"
     ]
    }
   ],
   "source": [
    "net = Model()\n",
    "\n",
    "if USE_CUDA:\n",
    "    net.cuda()\n",
    "\n",
    "    devices = []\n",
    "    for i in range(args.devices):\n",
    "        devices.append(i)\n",
    "\n",
    "    if len(devices)>1:\n",
    "        net = torch.nn.DataParallel(net, device_ids=devices)\n",
    "        cudnn.benchmark = True\n",
    "\n",
    "criterion = nn.CrossEntropyLoss()\n",
    "optimizer = optim.SGD(net.parameters(), lr=args.lr, momentum=0.9, weight_decay=args.weight_decay)\n",
    "scheduler = MultiStepLR(optimizer, milestones=[args.epochs*.25, args.epochs*.5,args.epochs*.75], gamma=0.1)"
   ]
  },
  {
   "cell_type": "code",
   "execution_count": 7,
   "metadata": {},
   "outputs": [],
   "source": [
    "# Training\n",
    "def train(inputs, targets):\n",
    "    # Step count for decaying learning rate\n",
    "    scheduler.step()\n",
    "\n",
    "    net.train()\n",
    "    train_loss = 0\n",
    "    correct = 0\n",
    "    total = 0\n",
    "\n",
    "    epoch_start_time = calendar.timegm(time.gmtime())\n",
    "\n",
    "    optimizer.zero_grad()\n",
    "    inputs, targets = Variable(inputs), Variable(targets)\n",
    "    if USE_CUDA:\n",
    "        inputs, targets = inputs.cuda(), targets.cuda()\n",
    "        \n",
    "    outputs = net(inputs)\n",
    "    loss = criterion(outputs, targets)\n",
    "    loss.backward()\n",
    "    optimizer.step()\n",
    "\n",
    "    curr_mini_loss = loss.data[0]\n",
    "    curr_mini_size = targets.size(0)\n",
    "\n",
    "    _, predicted = torch.max(outputs.data, 1)\n",
    "    curr_mini_correct = predicted.eq(targets.data).cpu().sum()\n",
    "\n",
    "    train_loss += curr_mini_loss\n",
    "    total += curr_mini_size\n",
    "    correct += curr_mini_correct\n",
    "\n",
    "    if batch_idx%args.log_interval == 0:\n",
    "        train_loss_avg = train_loss/(batch_idx+1)\n",
    "        train_acc_avg = 100.*correct/total\n",
    "\n",
    "        msg = 'Train Loss Avg: %.3f | Train Acc Avg: %.3f%% (%d/%d)' % (train_loss_avg, train_acc_avg, correct, total)\n",
    "        print(msg)\n",
    "\n",
    "    epoch_end_time = calendar.timegm(time.gmtime())\n",
    "    epoch_time_taken = epoch_end_time - epoch_start_time\n",
    "\n",
    "    print(\"epoch_time_taken: \" + str(epoch_time_taken))"
   ]
  },
  {
   "cell_type": "code",
   "execution_count": null,
   "metadata": {},
   "outputs": [],
   "source": [
    "if __name__ == '__main__':\n",
    "    stream = gopen.sharditerator(\"test/testdata/cifar10-train-@000001.tar\", epochs=args.epochs)\n",
    "    \n",
    "    while True:\n",
    "        inputs = np.array([])\n",
    "        targets = []\n",
    "        for i in range(args.batch_size):\n",
    "            sample = next(stream)\n",
    "            \n",
    "            img = sample['png']\n",
    "            img = np.transpose(img, (0, 1, 2))\n",
    "            \n",
    "            cls = sample['cls']\n",
    "            \n",
    "            if len(inputs)==0:\n",
    "                inputs = img\n",
    "            else:\n",
    "                inputs = np.append(inputs, img, axis=0)\n",
    "            \n",
    "            targets.append(cls)\n",
    "        \n",
    "        inputs = torch.from_numpy(inputs)\n",
    "        targets = torch.FloatTensor(targets)\n",
    "\n",
    "        train(inputs, targets)"
   ]
  },
  {
   "cell_type": "code",
   "execution_count": null,
   "metadata": {},
   "outputs": [],
   "source": []
  }
 ],
 "metadata": {
  "kernelspec": {
   "display_name": "Python 3",
   "language": "python",
   "name": "python3"
  },
  "language_info": {
   "codemirror_mode": {
    "name": "ipython",
    "version": 3
   },
   "file_extension": ".py",
   "mimetype": "text/x-python",
   "name": "python",
   "nbconvert_exporter": "python",
   "pygments_lexer": "ipython3",
   "version": "3.6.4"
  }
 },
 "nbformat": 4,
 "nbformat_minor": 2
}
