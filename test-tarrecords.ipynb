{
 "cells": [
  {
   "cell_type": "code",
   "execution_count": 21,
   "metadata": {},
   "outputs": [
    {
     "data": {
      "text/plain": [
       "<module 'dlinputs.tarrecords' from 'dlinputs/tarrecords.py'>"
      ]
     },
     "execution_count": 21,
     "metadata": {},
     "output_type": "execute_result"
    }
   ],
   "source": [
    "from dlinputs import tarrecords\n",
    "reload(tarrecords)"
   ]
  },
  {
   "cell_type": "code",
   "execution_count": 22,
   "metadata": {},
   "outputs": [],
   "source": [
    "stream = open(\"testdata/imagenet-000000.tgz\")\n",
    "data = tarrecords.tariterator(stream)\n",
    "samples = list(data)\n",
    "assert len(samples)==47\n",
    "assert samples[0][\"__key__\"] == \"./10\"\n",
    "assert set(samples[3].keys()) == set(\"__key__ cls png xml wnid\".split())\n",
    "assert samples[-1][\"png\"].shape == (400, 300, 3)"
   ]
  },
  {
   "cell_type": "code",
   "execution_count": 24,
   "metadata": {},
   "outputs": [
    {
     "name": "stdout",
     "output_type": "stream",
     "text": [
      "-rw-rw-r-- 1 tmb tmb 12933749 Mar 15 14:08 /tmp/test.tgz\r\n"
     ]
    }
   ],
   "source": [
    "stream = open(\"/tmp/test.tgz\", \"wb\")\n",
    "sink = tarrecords.TarWriter(stream)\n",
    "for sample in samples:\n",
    "    sink.write(sample)\n",
    "sink.close()\n",
    "stream.close()\n",
    "!ls -l /tmp/test.tgz"
   ]
  },
  {
   "cell_type": "code",
   "execution_count": 25,
   "metadata": {},
   "outputs": [],
   "source": [
    "stream = open(\"/tmp/test.tgz\")\n",
    "data = tarrecords.tariterator(stream)\n",
    "samples = list(data)\n",
    "assert len(samples)==47\n",
    "assert samples[0][\"__key__\"] == \"./10\"\n",
    "assert set(samples[3].keys()) == set(\"__key__ cls png xml wnid\".split())\n",
    "assert samples[-1][\"png\"].shape == (400, 300, 3)"
   ]
  }
 ],
 "metadata": {
  "kernelspec": {
   "display_name": "Python 2",
   "language": "python",
   "name": "python2"
  },
  "language_info": {
   "codemirror_mode": {
    "name": "ipython",
    "version": 2
   },
   "file_extension": ".py",
   "mimetype": "text/x-python",
   "name": "python",
   "nbconvert_exporter": "python",
   "pygments_lexer": "ipython2",
   "version": "2.7.12"
  }
 },
 "nbformat": 4,
 "nbformat_minor": 2
}
