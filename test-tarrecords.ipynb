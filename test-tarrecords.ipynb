{
 "cells": [
  {
   "cell_type": "code",
   "execution_count": 21,
   "metadata": {},
   "outputs": [
    {
     "data": {
      "text/plain": [
       "<module 'dlinputs.tarrecords' from 'dlinputs/tarrecords.py'>"
      ]
     },
     "execution_count": 21,
     "metadata": {},
     "output_type": "execute_result"
    }
   ],
   "source": [
    "from dlinputs import tarrecords\n",
    "reload(tarrecords)"
   ]
  },
  {
   "cell_type": "code",
   "execution_count": 22,
   "metadata": {},
   "outputs": [],
   "source": [
    "stream = open(\"testdata/imagenet-000000.tgz\")\n",
    "data = tarrecords.tardata(stream)\n",
    "samples = list(data)\n",
    "assert samples[0] == ('10.cls', '304'), samples[0]\n",
    "assert {2} == set([len(x) for x in samples])"
   ]
  },
  {
   "cell_type": "code",
   "execution_count": 23,
   "metadata": {},
   "outputs": [
    {
     "name": "stdout",
     "output_type": "stream",
     "text": [
      "['wnid', 'xml', 'png', '__key__', 'cls']\n"
     ]
    }
   ],
   "source": [
    "stream = open(\"testdata/imagenet-000000.tgz\")\n",
    "data = tarrecords.tardata(stream)\n",
    "data = tarrecords.group_by_keys()(data)\n",
    "samples = list(data)\n",
    "print samples[0].keys()"
   ]
  },
  {
   "cell_type": "code",
   "execution_count": 24,
   "metadata": {},
   "outputs": [
    {
     "name": "stdout",
     "output_type": "stream",
     "text": [
      "-rw-r--r-- tmb/tmb           3 1969-12-31 16:00 10.cls\n",
      "-rw-rw-r-- tmb/tmb       75442 2018-04-16 10:21 10.png\n",
      "-rw-r--r-- tmb/tmb           9 1969-12-31 16:00 10.wnid\n",
      "-rw-r--r-- tmb/tmb           4 1969-12-31 16:00 10.xml\n",
      "-rw-r--r-- tmb/tmb           3 1969-12-31 16:00 12.cls\n",
      "-rw-rw-r-- tmb/tmb       80108 2018-04-16 10:21 12.png\n",
      "-rw-r--r-- tmb/tmb           9 1969-12-31 16:00 12.wnid\n",
      "tar: write error\n",
      "10.png\n",
      "10.png: PNG image data, 600 x 793, 8-bit/color RGB, non-interlaced\n"
     ]
    }
   ],
   "source": [
    "!tar -ztvf testdata/imagenet-000000.tgz | sed 7q\n",
    "!tar xvf testdata/imagenet-000000.tgz 10.png\n",
    "!file 10.png"
   ]
  },
  {
   "cell_type": "code",
   "execution_count": 25,
   "metadata": {},
   "outputs": [
    {
     "name": "stdout",
     "output_type": "stream",
     "text": [
      "['wnid', 'xml', '__key__', 'png', 'cls']\n"
     ]
    }
   ],
   "source": [
    "stream = open(\"testdata/imagenet-000000.tgz\")\n",
    "data = tarrecords.tardata(stream)\n",
    "data = tarrecords.group_by_keys()(data)\n",
    "data = tarrecords.decoder()(data)\n",
    "samples = list(data)\n",
    "print samples[0].keys()"
   ]
  },
  {
   "cell_type": "code",
   "execution_count": 26,
   "metadata": {},
   "outputs": [],
   "source": [
    "stream = open(\"testdata/imagenet-000000.tgz\")\n",
    "data = tarrecords.tariterator1(stream)\n",
    "samples = list(data)\n",
    "assert len(samples)==47\n",
    "assert samples[0][\"__key__\"] == \"10\", samples[0][\"__key__\"]\n",
    "assert set(samples[3].keys()) == set(\"__key__ png cls xml wnid\".split()), samples[3].keys()\n",
    "assert samples[-1][\"png\"].shape == (400, 300, 3)"
   ]
  },
  {
   "cell_type": "code",
   "execution_count": 14,
   "metadata": {},
   "outputs": [],
   "source": [
    "stream = open(\"testdata/imagenet-000000.tgz\")\n",
    "data = tarrecords.tariterator(stream)\n",
    "samples = list(data)\n",
    "assert len(samples)==47\n",
    "assert samples[0][\"__key__\"] == \"10\"\n",
    "assert set(samples[3].keys()) == set(\"__key__ cls png xml wnid\".split())\n",
    "assert samples[-1][\"png\"].shape == (400, 300, 3)"
   ]
  },
  {
   "cell_type": "code",
   "execution_count": 15,
   "metadata": {},
   "outputs": [
    {
     "name": "stdout",
     "output_type": "stream",
     "text": [
      "-rw-rw-r-- 1 tmb tmb 12993102 Apr 16 10:23 /tmp/test.tgz\n"
     ]
    }
   ],
   "source": [
    "stream = open(\"/tmp/test.tgz\", \"wb\")\n",
    "sink = tarrecords.TarWriter(stream)\n",
    "for sample in samples:\n",
    "    sink.write(sample)\n",
    "sink.close()\n",
    "stream.close()\n",
    "!ls -l /tmp/test.tgz"
   ]
  },
  {
   "cell_type": "code",
   "execution_count": 20,
   "metadata": {},
   "outputs": [],
   "source": [
    "stream = open(\"/tmp/test.tgz\")\n",
    "data = tarrecords.tariterator(stream)\n",
    "samples = list(data)\n",
    "assert len(samples)==47\n",
    "assert samples[0][\"__key__\"] == \"10\"\n",
    "assert set(samples[3].keys()) == set(\"__key__ cls png xml wnid\".split()), samples[3].keys()\n",
    "assert samples[-1][\"png\"].shape == (400, 300, 3)"
   ]
  },
  {
   "cell_type": "code",
   "execution_count": null,
   "metadata": {},
   "outputs": [],
   "source": []
  }
 ],
 "metadata": {
  "kernelspec": {
   "display_name": "Python 2",
   "language": "python",
   "name": "python2"
  },
  "language_info": {
   "codemirror_mode": {
    "name": "ipython",
    "version": 2
   },
   "file_extension": ".py",
   "mimetype": "text/x-python",
   "name": "python",
   "nbconvert_exporter": "python",
   "pygments_lexer": "ipython2",
   "version": "2.7.12"
  }
 },
 "nbformat": 4,
 "nbformat_minor": 2
}
