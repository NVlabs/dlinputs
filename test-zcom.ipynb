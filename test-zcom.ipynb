{
 "cells": [
  {
   "cell_type": "code",
   "execution_count": 1,
   "metadata": {},
   "outputs": [],
   "source": [
    "from dlinputs import zcom\n",
    "import threading\n",
    "import time"
   ]
  },
  {
   "cell_type": "code",
   "execution_count": 2,
   "metadata": {},
   "outputs": [],
   "source": [
    "def source(addr=\"zrpush://*:10000\"):\n",
    "    sender = zcom.Connection(addr)\n",
    "    for i in range(1):\n",
    "        print \"send\", i\n",
    "        sender.send(dict(i=i, a=1, b=2))\n",
    "    time.sleep(1.0)\n",
    "    sender.close()\n",
    "    del sender"
   ]
  },
  {
   "cell_type": "code",
   "execution_count": 3,
   "metadata": {},
   "outputs": [
    {
     "name": "stdout",
     "output_type": "stream",
     "text": [
      "send 0\n"
     ]
    }
   ],
   "source": [
    "thread = threading.Thread(target=source, args=(\"zrpush://*:10000\",))\n",
    "thread.start()\n",
    "receiver = zcom.Connection(\"zrpull://localhost:10000\")\n",
    "result = receiver.recv()\n",
    "receiver.close()\n",
    "assert result[\"a\"] == 1\n",
    "thread.join()"
   ]
  },
  {
   "cell_type": "code",
   "execution_count": 4,
   "metadata": {},
   "outputs": [
    {
     "name": "stdout",
     "output_type": "stream",
     "text": [
      "send 0\n"
     ]
    }
   ],
   "source": [
    "from dlinputs import gopen\n",
    "thread = threading.Thread(target=source, args=(\"zrpush://*:10001\",))\n",
    "thread.start()\n",
    "receiver = gopen.open_source(\"zrpull://localhost:10001\")\n",
    "result = receiver.next()\n",
    "assert result[\"a\"] == 1\n",
    "thread.join()"
   ]
  },
  {
   "cell_type": "code",
   "execution_count": null,
   "metadata": {},
   "outputs": [],
   "source": []
  }
 ],
 "metadata": {
  "kernelspec": {
   "display_name": "Python 2",
   "language": "python",
   "name": "python2"
  },
  "language_info": {
   "codemirror_mode": {
    "name": "ipython",
    "version": 2
   },
   "file_extension": ".py",
   "mimetype": "text/x-python",
   "name": "python",
   "nbconvert_exporter": "python",
   "pygments_lexer": "ipython2",
   "version": "2.7.12"
  }
 },
 "nbformat": 4,
 "nbformat_minor": 2
}
