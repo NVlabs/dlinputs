{
 "cells": [
  {
   "cell_type": "code",
   "execution_count": 4,
   "metadata": {},
   "outputs": [],
   "source": [
    "from dlinputs import tarrecords\n",
    "reload(tarrecords)\n",
    "import numpy as np\n",
    "import pdb"
   ]
  },
  {
   "cell_type": "code",
   "execution_count": 2,
   "metadata": {},
   "outputs": [],
   "source": [
    "stream = open(\"testdata/imagenet-000000.tgz\")\n",
    "data = tarrecords.tardata(stream)\n",
    "samples = list(data)\n",
    "assert samples[0] == ('10.cls', '304'), samples[0]\n",
    "assert {2} == set([len(x) for x in samples])"
   ]
  },
  {
   "cell_type": "code",
   "execution_count": 6,
   "metadata": {},
   "outputs": [
    {
     "name": "stdout",
     "output_type": "stream",
     "text": [
      "['wnid', 'xml', 'png', '__key__', 'cls']\n"
     ]
    }
   ],
   "source": [
    "stream = open(\"testdata/imagenet-000000.tgz\")\n",
    "data = tarrecords.tardata(stream)\n",
    "data = tarrecords.group_by_keys()(data)\n",
    "samples = list(data)\n",
    "print samples[0].keys()"
   ]
  },
  {
   "cell_type": "code",
   "execution_count": 4,
   "metadata": {},
   "outputs": [
    {
     "name": "stdout",
     "output_type": "stream",
     "text": [
      "-rw-r--r-- tmb/tmb           3 1969-12-31 16:00 10.cls\n",
      "-rw-rw-r-- tmb/tmb       75442 2018-04-16 10:21 10.png\n",
      "-rw-r--r-- tmb/tmb           9 1969-12-31 16:00 10.wnid\n",
      "-rw-r--r-- tmb/tmb           4 1969-12-31 16:00 10.xml\n",
      "-rw-r--r-- tmb/tmb           3 1969-12-31 16:00 12.cls\n",
      "-rw-rw-r-- tmb/tmb       80108 2018-04-16 10:21 12.png\n",
      "-rw-r--r-- tmb/tmb           9 1969-12-31 16:00 12.wnid\n",
      "tar: write error\n",
      "10.png\n",
      "10.png: PNG image data, 600 x 793, 8-bit/color RGB, non-interlaced\n"
     ]
    }
   ],
   "source": [
    "!tar -ztvf testdata/imagenet-000000.tgz | sed 7q\n",
    "!tar xvf testdata/imagenet-000000.tgz 10.png\n",
    "!file 10.png"
   ]
  },
  {
   "cell_type": "code",
   "execution_count": 5,
   "metadata": {},
   "outputs": [
    {
     "name": "stdout",
     "output_type": "stream",
     "text": [
      "['wnid', 'xml', '__key__', 'png', 'cls']\n"
     ]
    }
   ],
   "source": [
    "stream = open(\"testdata/imagenet-000000.tgz\")\n",
    "data = tarrecords.tardata(stream)\n",
    "data = tarrecords.group_by_keys()(data)\n",
    "data = tarrecords.decoder()(data)\n",
    "samples = list(data)\n",
    "print samples[0].keys()"
   ]
  },
  {
   "cell_type": "code",
   "execution_count": 6,
   "metadata": {},
   "outputs": [],
   "source": [
    "stream = open(\"testdata/imagenet-000000.tgz\")\n",
    "data = tarrecords.tariterator1(stream)\n",
    "samples = list(data)\n",
    "assert len(samples)==47\n",
    "assert samples[0][\"__key__\"] == \"10\", samples[0][\"__key__\"]\n",
    "assert set(samples[3].keys()) == set(\"__key__ png cls xml wnid\".split()), samples[3].keys()\n",
    "assert samples[-1][\"png\"].shape == (400, 300, 3)"
   ]
  },
  {
   "cell_type": "code",
   "execution_count": 8,
   "metadata": {},
   "outputs": [],
   "source": [
    "stream = open(\"testdata/imagenet-000000.tgz\")\n",
    "data = tarrecords.tariterator(stream)\n",
    "samples = list(data)\n",
    "assert len(samples)==47\n",
    "for i in xrange(len(samples)):\n",
    "    assert samples[i][\"png\"].dtype == np.dtype('f'), samples[i][\"png\"].dtype\n",
    "    assert np.amin(samples[i][\"png\"]) >= 0, np.amin(samples[i][\"png\"])\n",
    "    assert np.amin(samples[i][\"png\"]) <= 1, np.amax(samples[i][\"png\"])\n",
    "assert samples[0][\"__key__\"] == \"10\"\n",
    "assert set(samples[3].keys()) == set(\"__key__ __source__ cls png xml wnid\".split()), samples[3].keys()\n",
    "assert samples[-1][\"png\"].shape == (400, 300, 3)"
   ]
  },
  {
   "cell_type": "code",
   "execution_count": 7,
   "metadata": {},
   "outputs": [
    {
     "name": "stdout",
     "output_type": "stream",
     "text": [
      "total 40\r\n",
      "-rw-rw-r-- 1 nsonti nsonti    3 May 23 10:18 abc\r\n",
      "-rw------- 1 nsonti nsonti    0 May 22 13:23 config-err-4tLJKZ\r\n",
      "drwx------ 2 nsonti nsonti 4096 May 23 06:24 gnome-software-OM6HJZ\r\n",
      "drwx------ 2 nsonti nsonti 4096 May 22 15:20 ssh-AiCvz8HutTx9\r\n",
      "drwx------ 2 nsonti nsonti 4096 May 22 14:58 ssh-qnFyAceZEfEo\r\n",
      "drwx------ 2 nsonti nsonti 4096 May 22 13:46 ssh-VtHpYo2wPUpZ\r\n",
      "drwx------ 2 nsonti nsonti 4096 May 22 15:23 ssh-x3AW7aXbNKkY\r\n",
      "drwx------ 3 root   root   4096 May 22 13:22 systemd-private-28665c359ed140d3b00a2733b85033c0-colord.service-aYyR3w\r\n",
      "drwx------ 3 root   root   4096 May 22 13:23 systemd-private-28665c359ed140d3b00a2733b85033c0-fwupd.service-SAzK2Q\r\n",
      "drwx------ 3 root   root   4096 May 22 13:22 systemd-private-28665c359ed140d3b00a2733b85033c0-rtkit-daemon.service-lkalIF\r\n",
      "drwx------ 3 root   root   4096 May 22 13:22 systemd-private-28665c359ed140d3b00a2733b85033c0-systemd-timesyncd.service-Wd13xe\r\n",
      "-rw-rw-r-- 1 nsonti nsonti    0 May 22 13:23 unity_support_test.0\r\n"
     ]
    }
   ],
   "source": [
    "!ls -l /tmp/"
   ]
  },
  {
   "cell_type": "code",
   "execution_count": 9,
   "metadata": {},
   "outputs": [
    {
     "name": "stdout",
     "output_type": "stream",
     "text": [
      "-rw-rw-r-- 1 nsonti nsonti 12870504 May 23 11:26 /tmp/test.tgz\r\n"
     ]
    }
   ],
   "source": [
    "stream = open(\"/tmp/test.tgz\", \"wb\")\n",
    "sink = tarrecords.TarWriter(stream)\n",
    "for sample in samples:\n",
    "    sink.write(sample)\n",
    "sink.close()\n",
    "stream.close()\n",
    "!ls -l /tmp/test.tgz"
   ]
  },
  {
   "cell_type": "code",
   "execution_count": 10,
   "metadata": {},
   "outputs": [],
   "source": [
    "stream = open(\"/tmp/test.tgz\")\n",
    "data = tarrecords.tariterator(stream)\n",
    "samples = list(data)\n",
    "assert len(samples)==47\n",
    "assert samples[0][\"__key__\"] == \"10\"\n",
    "assert set(samples[3].keys()) == set(\"__key__ __source__ cls png xml wnid\".split()), samples[3].keys()\n",
    "assert samples[-1][\"png\"].shape == (400, 300, 3)"
   ]
  },
  {
   "cell_type": "code",
   "execution_count": null,
   "metadata": {},
   "outputs": [],
   "source": []
  }
 ],
 "metadata": {
  "kernelspec": {
   "display_name": "Python 2",
   "language": "python",
   "name": "python2"
  },
  "language_info": {
   "codemirror_mode": {
    "name": "ipython",
    "version": 2
   },
   "file_extension": ".py",
   "mimetype": "text/x-python",
   "name": "python",
   "nbconvert_exporter": "python",
   "pygments_lexer": "ipython2",
   "version": "2.7.14"
  }
 },
 "nbformat": 4,
 "nbformat_minor": 2
}
