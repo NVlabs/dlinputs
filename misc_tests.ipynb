{
 "cells": [
  {
   "cell_type": "code",
   "execution_count": 1,
   "metadata": {},
   "outputs": [
    {
     "name": "stdout",
     "output_type": "stream",
     "text": [
      "Populating the interactive namespace from numpy and matplotlib\n"
     ]
    }
   ],
   "source": [
    "%pylab inline"
   ]
  },
  {
   "cell_type": "code",
   "execution_count": 2,
   "metadata": {},
   "outputs": [],
   "source": [
    "from pylab import *\n",
    "rc(\"image\", cmap=\"hot\")\n",
    "import pylab\n",
    "import os\n",
    "import glob\n",
    "import time\n",
    "import resource\n",
    "import psutil\n",
    "from contextlib import closing\n",
    "import uuid\n",
    "import dlinputs as dli"
   ]
  },
  {
   "cell_type": "markdown",
   "metadata": {},
   "source": [
    "# SQLite input, mapping, renaming, batching"
   ]
  },
  {
   "cell_type": "code",
   "execution_count": 3,
   "metadata": {},
   "outputs": [
    {
     "name": "stdout",
     "output_type": "stream",
     "text": [
      "# itinfo 0\n",
      "__epoch__ 0\n",
      "input float32 (48, 247)\n",
      "transcript u'Continuum Mechanics'\n",
      "['input', '_bucket', 'transcript', 'target', '__epoch__']\n",
      "(5, 48, 1295)\n",
      "(5, 159, 97)\n"
     ]
    },
    {
     "data": {
      "text/plain": [
       "<matplotlib.image.AxesImage at 0x7fb119171710>"
      ]
     },
     "execution_count": 3,
     "metadata": {},
     "output_type": "execute_result"
    },
    {
     "data": {
      "image/png": "[encoded data removed]",
      "text/plain": [
       "<matplotlib.figure.Figure at 0x7fb11b468590>"
      ]
     },
     "metadata": {},
     "output_type": "display_data"
    }
   ],
   "source": [
    "training = (dli.itsqlite(\"testdata/uw3small.db\", epochs=999999) |\n",
    "            dli.itmap(image=dli.pilgray) |\n",
    "            dli.itren(input=\"image\", transcript=\"transcript\") |\n",
    "            dli.itinfo() |\n",
    "            dli.itbatchedbuckets() |\n",
    "            dli.itlinebatcher())\n",
    "item = training.next()\n",
    "print item.keys()\n",
    "print item[\"input\"].shape\n",
    "print item[\"target\"].shape\n",
    "imshow(item[\"input\"][0])"
   ]
  },
  {
   "cell_type": "code",
   "execution_count": null,
   "metadata": {},
   "outputs": [],
   "source": []
  }
 ],
 "metadata": {
  "kernelspec": {
   "display_name": "Python 2",
   "language": "python",
   "name": "python2"
  },
  "language_info": {
   "codemirror_mode": {
    "name": "ipython",
    "version": 2
   },
   "file_extension": ".py",
   "mimetype": "text/x-python",
   "name": "python",
   "nbconvert_exporter": "python",
   "pygments_lexer": "ipython2",
   "version": "2.7.14"
  }
 },
 "nbformat": 4,
 "nbformat_minor": 2
}
