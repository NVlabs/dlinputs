{
 "cells": [
  {
   "cell_type": "code",
   "execution_count": 1,
   "metadata": {},
   "outputs": [],
   "source": [
    "import dlinputs.filters as dlf\n",
    "reload(dlf)\n",
    "from itertools import imap\n",
    "import numpy as np"
   ]
  },
  {
   "cell_type": "code",
   "execution_count": 2,
   "metadata": {},
   "outputs": [],
   "source": [
    "def f(it):\n",
    "    for x in it: yield x+1\n",
    "g = dlf.compose(f, f, f)\n",
    "assert list(g(xrange(5))) == [3,4,5,6,7]"
   ]
  },
  {
   "cell_type": "code",
   "execution_count": 3,
   "metadata": {},
   "outputs": [],
   "source": [
    "reload(dlf)\n",
    "def f(s):\n",
    "    def g(it):\n",
    "        for x in it: yield x+s\n",
    "    return g\n",
    "g = dlf.compose(f(\"a\"), f(\"b\"), f(\"c\"), f(\"d\"))\n",
    "assert list(g([\"\"])) == [\"abcd\"]"
   ]
  },
  {
   "cell_type": "code",
   "execution_count": 4,
   "metadata": {},
   "outputs": [],
   "source": [
    "def source(n=5):\n",
    "    for i in range(n):\n",
    "        yield dict(__key__=\"{:06d}\".format(i))"
   ]
  },
  {
   "cell_type": "code",
   "execution_count": 5,
   "metadata": {},
   "outputs": [],
   "source": [
    "def source2(n=5):\n",
    "    for i in range(n):\n",
    "        yield dict(__key__=\"{:06d}\".format(i),\n",
    "                   png=np.zeros((1, 1, 3)),\n",
    "                   cls=i%3,\n",
    "                   info=str(i))"
   ]
  },
  {
   "cell_type": "code",
   "execution_count": 6,
   "metadata": {},
   "outputs": [],
   "source": [
    "assert len(list(dlf.merge([source()]))) == 5\n",
    "assert len(list(dlf.merge([source(), source()]))) == 10"
   ]
  },
  {
   "cell_type": "code",
   "execution_count": 7,
   "metadata": {},
   "outputs": [],
   "source": [
    "assert len(list(dlf.concat([source()]))) == 5\n",
    "assert len(list(dlf.concat([source(), source()]))) == 10"
   ]
  },
  {
   "cell_type": "code",
   "execution_count": 8,
   "metadata": {},
   "outputs": [
    {
     "name": "stdout",
     "output_type": "stream",
     "text": [
      "# itinfo 0\n",
      "__key__ '000000'\n",
      "# itinfo 2\n",
      "__key__ '000002'\n",
      "# itinfo 4\n",
      "__key__ '000004'\n"
     ]
    }
   ],
   "source": [
    "list(dlf.info(every=2)(source()));"
   ]
  },
  {
   "cell_type": "code",
   "execution_count": 9,
   "metadata": {},
   "outputs": [],
   "source": [
    "assert list(dlf.grep(info=\"2\")(source2()))[0][\"cls\"] == 2"
   ]
  },
  {
   "cell_type": "code",
   "execution_count": 10,
   "metadata": {},
   "outputs": [],
   "source": [
    "assert len(list(dlf.select(cls=lambda x: x<2)(source2()))) == 3"
   ]
  },
  {
   "cell_type": "code",
   "execution_count": 11,
   "metadata": {},
   "outputs": [],
   "source": [
    "results = list(dlf.rename(klasse=\"cls\")(source2()))\n",
    "keys = list(set(tuple(sorted(x.keys())) for x in results))[0]\n",
    "assert \"cls\" not in keys\n",
    "assert \"klasse\" in keys"
   ]
  },
  {
   "cell_type": "code",
   "execution_count": 12,
   "metadata": {},
   "outputs": [],
   "source": [
    "results = list(dlf.copy(klasse=\"cls\")(source2()))\n",
    "keys = list(set(tuple(sorted(x.keys())) for x in results))[0]\n",
    "assert \"cls\" in keys\n",
    "assert \"klasse\" in keys"
   ]
  },
  {
   "cell_type": "code",
   "execution_count": 13,
   "metadata": {},
   "outputs": [],
   "source": [
    "results = list(dlf.map(cls=lambda x: 99)(source2()))\n",
    "classes = set(x[\"cls\"] for x in results)\n",
    "assert classes == set([99])"
   ]
  },
  {
   "cell_type": "code",
   "execution_count": 14,
   "metadata": {},
   "outputs": [],
   "source": [
    "results = list(dlf.transform(lambda x: dict(q=x[\"cls\"]))(source2()))\n",
    "assert results[0] == {\"q\": 0}"
   ]
  },
  {
   "cell_type": "code",
   "execution_count": 15,
   "metadata": {},
   "outputs": [],
   "source": [
    "initial = list(source(200))\n",
    "results = list(dlf.shuffle(1000, 100)(x for x in initial))\n",
    "assert len(results) == 200\n",
    "before = set(x[\"__key__\"] for x in initial)\n",
    "after = set(x[\"__key__\" ] for x in results)\n",
    "assert len(before) == 200\n",
    "assert before==after"
   ]
  },
  {
   "cell_type": "code",
   "execution_count": 16,
   "metadata": {},
   "outputs": [],
   "source": [
    "for sample in dlf.batched(20)(source2(100)):\n",
    "    assert sample[\"png\"].shape == (20, 1, 1, 3)"
   ]
  },
  {
   "cell_type": "code",
   "execution_count": 21,
   "metadata": {},
   "outputs": [],
   "source": [
    "for sample in dlf.compose(dlf.batched(20), dlf.unbatch())(source2(100)):\n",
    "    assert sample[\"png\"].shape == (1, 1, 3), sample[\"png\"].shape"
   ]
  },
  {
   "cell_type": "code",
   "execution_count": null,
   "metadata": {},
   "outputs": [],
   "source": []
  }
 ],
 "metadata": {
  "kernelspec": {
   "display_name": "Python 2",
   "language": "python",
   "name": "python2"
  },
  "language_info": {
   "codemirror_mode": {
    "name": "ipython",
    "version": 2
   },
   "file_extension": ".py",
   "mimetype": "text/x-python",
   "name": "python",
   "nbconvert_exporter": "python",
   "pygments_lexer": "ipython2",
   "version": "2.7.12"
  }
 },
 "nbformat": 4,
 "nbformat_minor": 2
}
