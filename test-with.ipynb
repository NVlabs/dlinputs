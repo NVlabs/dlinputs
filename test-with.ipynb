{
 "cells": [
  {
   "cell_type": "code",
   "execution_count": 1,
   "metadata": {},
   "outputs": [],
   "source": [
    "import dlinputs"
   ]
  },
  {
   "cell_type": "code",
   "execution_count": 2,
   "metadata": {},
   "outputs": [],
   "source": [
    "assert \"open_source\" not in globals()"
   ]
  },
  {
   "cell_type": "code",
   "execution_count": 3,
   "metadata": {},
   "outputs": [
    {
     "name": "stdout",
     "output_type": "stream",
     "text": [
      "['__key__', '__source__', 'cls', 'png']\n"
     ]
    }
   ],
   "source": [
    "with dlinputs.inputs:\n",
    "    assert \"open_source\" in globals()\n",
    "    for sample in open_source(\"testdata/sample.tgz\"):\n",
    "        print(list(sample.keys()))\n",
    "        assert sample[\"png\"].shape == (28, 28)\n",
    "        break"
   ]
  },
  {
   "cell_type": "code",
   "execution_count": 4,
   "metadata": {},
   "outputs": [],
   "source": [
    "assert \"open_source\" not in globals()"
   ]
  },
  {
   "cell_type": "code",
   "execution_count": 5,
   "metadata": {},
   "outputs": [
    {
     "name": "stdout",
     "output_type": "stream",
     "text": [
      "['__key__', '__source__', 'cls', 'png']\n"
     ]
    }
   ],
   "source": [
    "with dlinputs.inputs:\n",
    "    assert \"open_source\" in globals()\n",
    "    for sample in pipeline(open_source(\"testdata/sample.tgz\")):\n",
    "        print(list(sample.keys()))\n",
    "        assert sample[\"png\"].shape == (28, 28)\n",
    "        break"
   ]
  },
  {
   "cell_type": "code",
   "execution_count": 6,
   "metadata": {},
   "outputs": [
    {
     "name": "stdout",
     "output_type": "stream",
     "text": [
      "['__key__', '__source__', 'cls', 'png']\n",
      "(5, 28, 28)\n"
     ]
    }
   ],
   "source": [
    "with dlinputs.inputs:\n",
    "    assert \"open_source\" in globals()\n",
    "    for sample in pipeline(open_source(\"testdata/sample.tgz\"), batched(5)):\n",
    "        print(list(sample.keys()))\n",
    "        print(sample[\"png\"].shape)\n",
    "        assert sample[\"png\"].shape == (5, 28, 28)\n",
    "        break"
   ]
  },
  {
   "cell_type": "code",
   "execution_count": null,
   "metadata": {},
   "outputs": [],
   "source": []
  }
 ],
 "metadata": {
  "kernelspec": {
   "display_name": "Python 3",
   "language": "python",
   "name": "python3"
  },
  "language_info": {
   "codemirror_mode": {
    "name": "ipython",
    "version": 3
   },
   "file_extension": ".py",
   "mimetype": "text/x-python",
   "name": "python",
   "nbconvert_exporter": "python",
   "pygments_lexer": "ipython3",
   "version": "3.6.7"
  }
 },
 "nbformat": 4,
 "nbformat_minor": 2
}
