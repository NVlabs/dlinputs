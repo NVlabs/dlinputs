{
 "cells": [
  {
   "cell_type": "code",
   "execution_count": 1,
   "metadata": {},
   "outputs": [
    {
     "data": {
      "text/plain": [
       "<module 'dlinputs.gopen' from '/home/tmb/exp/dlinputs/dlinputs/gopen.py'>"
      ]
     },
     "execution_count": 1,
     "metadata": {},
     "output_type": "execute_result"
    }
   ],
   "source": [
    "from dlinputs import gopen\n",
    "import numpy as np\n",
    "import imp\n",
    "imp.reload(gopen)"
   ]
  },
  {
   "cell_type": "code",
   "execution_count": 2,
   "metadata": {},
   "outputs": [],
   "source": [
    "data = gopen.gopen(\"/etc/passwd\").read()[:4]\n",
    "assert data.decode(\"ascii\") == \"root\", data"
   ]
  },
  {
   "cell_type": "code",
   "execution_count": 3,
   "metadata": {},
   "outputs": [],
   "source": [
    "assert gopen.test_url(\"/etc/passwd\")"
   ]
  },
  {
   "cell_type": "code",
   "execution_count": 4,
   "metadata": {},
   "outputs": [
    {
     "name": "stdout",
     "output_type": "stream",
     "text": [
      "[Errno 21] Is a directory: '/etc/'\n"
     ]
    }
   ],
   "source": [
    "assert not gopen.test_url(\"/etc/\")"
   ]
  },
  {
   "cell_type": "code",
   "execution_count": 5,
   "metadata": {},
   "outputs": [
    {
     "name": "stdout",
     "output_type": "stream",
     "text": [
      "[Errno 2] No such file or directory: '/etc/LSKDJFLKJLFJ'\n"
     ]
    }
   ],
   "source": [
    "assert not gopen.test_url(\"/etc/LSKDJFLKJLFJ\")"
   ]
  },
  {
   "cell_type": "code",
   "execution_count": 6,
   "metadata": {},
   "outputs": [],
   "source": [
    "assert gopen.test_url(\"http://www.google.com/\")"
   ]
  },
  {
   "cell_type": "code",
   "execution_count": 7,
   "metadata": {},
   "outputs": [],
   "source": [
    "assert not gopen.test_url(\"http://www.slkJLKJLFKDJLJ.com/\")"
   ]
  },
  {
   "cell_type": "code",
   "execution_count": 8,
   "metadata": {},
   "outputs": [],
   "source": [
    "target = \"http://storage.googleapis.com/lpr-ocr/uw3-lines.tgz\"\n",
    "url = gopen.find_shards([\n",
    "     \"http://www.nvidia.com/lpr-ocr/uw3-lines.tgz\",\n",
    "     target\n",
    "])\n",
    "assert url == target"
   ]
  },
  {
   "cell_type": "code",
   "execution_count": 9,
   "metadata": {},
   "outputs": [],
   "source": [
    "import imp\n",
    "imp.reload(gopen)\n",
    "url = \"http://storage.googleapis.com/lpr-ocr/uw3-lines.tgz\"\n",
    "data = gopen.sharditerator(url)\n",
    "for sample in data:\n",
    "    break\n",
    "assert set([\"__key__\", \"png\"]) < set(sample.keys()), list(sample.keys())"
   ]
  },
  {
   "cell_type": "code",
   "execution_count": 10,
   "metadata": {},
   "outputs": [],
   "source": [
    "import imp\n",
    "imp.reload(gopen)\n",
    "imp.reload(gopen)\n",
    "data = gopen.sharditerator_once(url)\n",
    "for sample in data:\n",
    "    break\n",
    "assert set([\"__key__\", \"png\"]) < set(sample.keys()), list(sample.keys())"
   ]
  },
  {
   "cell_type": "code",
   "execution_count": 11,
   "metadata": {},
   "outputs": [],
   "source": [
    "import imp\n",
    "imp.reload(gopen)\n",
    "data = gopen.open_source(\"testdata/sample.tgz\")\n",
    "sample = next(data)\n",
    "assert isinstance(sample[\"png\"], np.ndarray)"
   ]
  },
  {
   "cell_type": "code",
   "execution_count": 12,
   "metadata": {},
   "outputs": [],
   "source": [
    "import imp\n",
    "imp.reload(gopen)\n",
    "data = gopen.open_source(\"testdata/sample.tgz\", decode=False)\n",
    "sample = next(data)\n",
    "assert isinstance(sample[\"png\"], (bytes, str)), sample[\"png\"]"
   ]
  },
  {
   "cell_type": "code",
   "execution_count": null,
   "metadata": {},
   "outputs": [],
   "source": []
  }
 ],
 "metadata": {
  "kernelspec": {
   "display_name": "Python 3",
   "language": "python",
   "name": "python3"
  },
  "language_info": {
   "codemirror_mode": {
    "name": "ipython",
    "version": 3
   },
   "file_extension": ".py",
   "mimetype": "text/x-python",
   "name": "python",
   "nbconvert_exporter": "python",
   "pygments_lexer": "ipython3",
   "version": "3.6.7"
  }
 },
 "nbformat": 4,
 "nbformat_minor": 2
}
