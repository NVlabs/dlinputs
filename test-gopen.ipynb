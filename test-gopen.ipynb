{
 "cells": [
  {
   "cell_type": "code",
   "execution_count": 1,
   "metadata": {},
   "outputs": [],
   "source": [
    "from urllib2 import urlparse"
   ]
  },
  {
   "cell_type": "code",
   "execution_count": 2,
   "metadata": {},
   "outputs": [
    {
     "data": {
      "text/plain": [
       "ParseResult(scheme='file', netloc='', path='a/b/c.d', params='', query='', fragment='e')"
      ]
     },
     "execution_count": 2,
     "metadata": {},
     "output_type": "execute_result"
    }
   ],
   "source": [
    "urlparse.urlparse(\"file:a/b/c.d#e\")"
   ]
  },
  {
   "cell_type": "code",
   "execution_count": 3,
   "metadata": {},
   "outputs": [
    {
     "data": {
      "text/plain": [
       "<module 'dlinputs.gopen' from 'dlinputs/gopen.pyc'>"
      ]
     },
     "execution_count": 3,
     "metadata": {},
     "output_type": "execute_result"
    }
   ],
   "source": [
    "from dlinputs import gopen\n",
    "reload(gopen)"
   ]
  },
  {
   "cell_type": "code",
   "execution_count": 4,
   "metadata": {},
   "outputs": [],
   "source": [
    "assert gopen.gopen(\"/etc/passwd\").read()[:4] == \"root\""
   ]
  },
  {
   "cell_type": "code",
   "execution_count": 5,
   "metadata": {},
   "outputs": [],
   "source": [
    "assert gopen.test_url(\"/etc/passwd\")"
   ]
  },
  {
   "cell_type": "code",
   "execution_count": 6,
   "metadata": {},
   "outputs": [
    {
     "name": "stdout",
     "output_type": "stream",
     "text": [
      "[Errno 21] Is a directory: '/etc/'\n"
     ]
    }
   ],
   "source": [
    "assert not gopen.test_url(\"/etc/\")"
   ]
  },
  {
   "cell_type": "code",
   "execution_count": 7,
   "metadata": {},
   "outputs": [
    {
     "name": "stdout",
     "output_type": "stream",
     "text": [
      "[Errno 2] No such file or directory: '/etc/LSKDJFLKJLFJ'\n"
     ]
    }
   ],
   "source": [
    "assert not gopen.test_url(\"/etc/LSKDJFLKJLFJ\")"
   ]
  },
  {
   "cell_type": "code",
   "execution_count": 8,
   "metadata": {},
   "outputs": [],
   "source": [
    "assert gopen.test_url(\"http://www.google.com/\")"
   ]
  },
  {
   "cell_type": "code",
   "execution_count": 9,
   "metadata": {},
   "outputs": [],
   "source": [
    "assert not gopen.test_url(\"http://www.slkJLKJLFKDJLJ.com/\")"
   ]
  },
  {
   "cell_type": "code",
   "execution_count": 10,
   "metadata": {},
   "outputs": [],
   "source": [
    "url = gopen.find_shards([\n",
    "     \"http://www.nvidia.com/lpr-ocr/uw3-lines-train-@000019.tgz\",\n",
    "     \"http://storage.googleapis.com/lpr-ocr/uw3-lines-train-@000019.tgz\"\n",
    "])\n",
    "assert url == \"http://storage.googleapis.com/lpr-ocr/uw3-lines-train-@000019.tgz\""
   ]
  },
  {
   "cell_type": "code",
   "execution_count": 12,
   "metadata": {},
   "outputs": [],
   "source": [
    "reload(gopen)\n",
    "url = \"http://storage.googleapis.com/lpr-ocr/uw3-lines-train-@000019.tgz\"\n",
    "data = gopen.sharditerator(url)\n",
    "for sample in data:\n",
    "    break\n",
    "assert set([\"__key__\", \"gt.txt\"]) < set(sample.keys())"
   ]
  },
  {
   "cell_type": "code",
   "execution_count": 13,
   "metadata": {},
   "outputs": [],
   "source": [
    "reload(gopen)\n",
    "url = \"http://storage.googleapis.com/lpr-ocr/uw3-lines-test-@000019.tgz\"\n",
    "data = gopen.sharditerator_test(url)\n",
    "for sample in data:\n",
    "    break\n",
    "assert set([\"__key__\", \"gt.txt\"]) < set(sample.keys())"
   ]
  },
  {
   "cell_type": "code",
   "execution_count": null,
   "metadata": {},
   "outputs": [],
   "source": []
  }
 ],
 "metadata": {
  "kernelspec": {
   "display_name": "Python 2",
   "language": "python",
   "name": "python2"
  },
  "language_info": {
   "codemirror_mode": {
    "name": "ipython",
    "version": 2
   },
   "file_extension": ".py",
   "mimetype": "text/x-python",
   "name": "python",
   "nbconvert_exporter": "python",
   "pygments_lexer": "ipython2",
   "version": "2.7.12"
  }
 },
 "nbformat": 4,
 "nbformat_minor": 2
}
