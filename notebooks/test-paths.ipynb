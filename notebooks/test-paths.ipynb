{
 "cells": [
  {
   "cell_type": "code",
   "execution_count": 1,
   "metadata": {},
   "outputs": [
    {
     "data": {
      "text/plain": [
       "<module 'dlinputs.paths' from '/home/tmb/exp/dlinputs/dlinputs/paths.py'>"
      ]
     },
     "execution_count": 1,
     "metadata": {},
     "output_type": "execute_result"
    }
   ],
   "source": [
    "from dlinputs import paths\n",
    "import imp\n",
    "imp.reload(paths)"
   ]
  },
  {
   "cell_type": "code",
   "execution_count": 2,
   "metadata": {},
   "outputs": [],
   "source": [
    "assert paths.split_sharded_path(\"http://server/a-@010-b\") == ('http://server/a-%03d-b', 10)"
   ]
  },
  {
   "cell_type": "code",
   "execution_count": 3,
   "metadata": {},
   "outputs": [],
   "source": [
    "assert paths.split_sharded_path(\"http://server/a-010-b\") == ('http://server/a-010-b', None)"
   ]
  },
  {
   "cell_type": "code",
   "execution_count": 4,
   "metadata": {},
   "outputs": [],
   "source": [
    "assert len(list(paths.path_shards(\"http://server/a-@010-b\"))) == 10"
   ]
  },
  {
   "cell_type": "code",
   "execution_count": 5,
   "metadata": {},
   "outputs": [
    {
     "name": "stdout",
     "output_type": "stream",
     "text": [
      "trying /etc/lib\n",
      "trying /bin/lib\n",
      "trying /usr/lib\n"
     ]
    }
   ],
   "source": [
    "assert paths.find_directory(\"/bar:/etc:/foo:/bin:/usr:/bam\", \"lib\", verbose=1) == \"/usr/lib\""
   ]
  },
  {
   "cell_type": "code",
   "execution_count": 6,
   "metadata": {},
   "outputs": [
    {
     "name": "stdout",
     "output_type": "stream",
     "text": [
      "trying /etc/ls\n",
      "trying /usr/bin/ls\n",
      "trying /bin/ls\n"
     ]
    }
   ],
   "source": [
    "assert paths.find_file(\"/bar:/etc:/usr/bin:/foo:/bin:/usr:/bam\", \"ls\", verbose=1) == \"/bin/ls\""
   ]
  },
  {
   "cell_type": "code",
   "execution_count": 8,
   "metadata": {},
   "outputs": [],
   "source": [
    "paths.writefile(\"/tmp/abc\", \"def\")\n",
    "data = paths.readfile(\"/tmp/abc\")\n",
    "assert data == \"def\".encode(\"ascii\")"
   ]
  },
  {
   "cell_type": "code",
   "execution_count": 9,
   "metadata": {},
   "outputs": [],
   "source": [
    "assert paths.splitallext(\"a/b/c.d.e\") == (\"a/b/c\", \"d.e\")"
   ]
  },
  {
   "cell_type": "code",
   "execution_count": 10,
   "metadata": {},
   "outputs": [
    {
     "name": "stdout",
     "output_type": "stream",
     "text": [
      "10.png\t\t\t server.py\t       test-sqlshelve.md\r\n",
      "LICENSE\t\t\t setup.py\t       test-tarrecords.ipynb\r\n",
      "README.rst\t\t shardindex\t       test-tarrecords.md\r\n",
      "basenames\t\t show-input\t       test-utils.ipynb\r\n",
      "build\t\t\t tarshards\t       test-utils.md\r\n",
      "dlinputs\t\t tarsplit\t       test-with.ipynb\r\n",
      "docs\t\t\t test\t\t       test-with.md\r\n",
      "dump-to-tarshards\t test-filters.ipynb    test.db\r\n",
      "input-sample.py\t\t test-filters.md       test.py\r\n",
      "intro-to-dlinputs.ipynb  test-gopen.ipynb      testdata\r\n",
      "legacy-inputs.ipynb\t test-gopen.md\t       testnot-zcom.ipynb\r\n",
      "lsmodel\t\t\t test-paths.ipynb      training-test-split\r\n",
      "requirements.txt\t test-paths.md\t       transform-input\r\n",
      "run-tests\t\t test-sqlshelve.ipynb\r\n"
     ]
    }
   ],
   "source": [
    "!ls"
   ]
  },
  {
   "cell_type": "code",
   "execution_count": 11,
   "metadata": {},
   "outputs": [],
   "source": [
    "basenames = list(paths.find_basenames(\"testdata\", \"png\"))\n",
    "assert len(basenames) == 6, len(basenames)"
   ]
  },
  {
   "cell_type": "code",
   "execution_count": 12,
   "metadata": {},
   "outputs": [],
   "source": [
    "import imp\n",
    "imp.reload(paths)\n",
    "assert paths.make_save_path(\"prefix\", 5000, 0.1) == 'prefix-000000005-100000.pt'"
   ]
  },
  {
   "cell_type": "code",
   "execution_count": 13,
   "metadata": {},
   "outputs": [],
   "source": [
    "n, e = paths.parse_save_path('prefix-000000005-100000.pt')\n",
    "assert n == 5000\n",
    "assert abs(e - 0.1) < 1e-9"
   ]
  },
  {
   "cell_type": "code",
   "execution_count": 14,
   "metadata": {},
   "outputs": [],
   "source": [
    "# spliturl"
   ]
  },
  {
   "cell_type": "code",
   "execution_count": 15,
   "metadata": {},
   "outputs": [],
   "source": [
    "# read_url_path"
   ]
  },
  {
   "cell_type": "code",
   "execution_count": 16,
   "metadata": {},
   "outputs": [],
   "source": [
    "# findurl"
   ]
  },
  {
   "cell_type": "code",
   "execution_count": 17,
   "metadata": {},
   "outputs": [],
   "source": [
    "# openurl"
   ]
  },
  {
   "cell_type": "code",
   "execution_count": 18,
   "metadata": {},
   "outputs": [],
   "source": [
    "# find_url"
   ]
  },
  {
   "cell_type": "code",
   "execution_count": 19,
   "metadata": {},
   "outputs": [],
   "source": [
    "# read_shards"
   ]
  },
  {
   "cell_type": "code",
   "execution_count": 20,
   "metadata": {},
   "outputs": [],
   "source": [
    "# extract_shards"
   ]
  },
  {
   "cell_type": "code",
   "execution_count": 21,
   "metadata": {},
   "outputs": [],
   "source": [
    "# iterate_shards"
   ]
  },
  {
   "cell_type": "code",
   "execution_count": null,
   "metadata": {},
   "outputs": [],
   "source": []
  }
 ],
 "metadata": {
  "kernelspec": {
   "display_name": "Python 3",
   "language": "python",
   "name": "python3"
  },
  "language_info": {
   "codemirror_mode": {
    "name": "ipython",
    "version": 3
   },
   "file_extension": ".py",
   "mimetype": "text/x-python",
   "name": "python",
   "nbconvert_exporter": "python",
   "pygments_lexer": "ipython3",
   "version": "3.6.7"
  }
 },
 "nbformat": 4,
 "nbformat_minor": 2
}
