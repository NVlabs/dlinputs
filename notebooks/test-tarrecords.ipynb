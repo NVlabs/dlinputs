{
 "cells": [
  {
   "cell_type": "code",
   "execution_count": 1,
   "metadata": {},
   "outputs": [],
   "source": [
    "from dlinputs import tarrecords\n",
    "import imp\n",
    "imp.reload(tarrecords)\n",
    "import numpy as np"
   ]
  },
  {
   "cell_type": "code",
   "execution_count": 2,
   "metadata": {},
   "outputs": [],
   "source": [
    "stream = open(\"testdata/imagenet-000000.tgz\", \"rb\")\n",
    "data = tarrecords.tardata(stream)\n",
    "samples = list(data)\n",
    "assert samples[0] == ('10.cls', '304'.encode(\"ascii\")), samples[0]\n",
    "assert {2} == set([len(x) for x in samples])"
   ]
  },
  {
   "cell_type": "code",
   "execution_count": 3,
   "metadata": {},
   "outputs": [
    {
     "name": "stdout",
     "output_type": "stream",
     "text": [
      "['__key__', 'cls', 'png', 'wnid', 'xml']\n"
     ]
    }
   ],
   "source": [
    "stream = open(\"testdata/imagenet-000000.tgz\", \"rb\")\n",
    "data = tarrecords.tardata(stream)\n",
    "data = tarrecords.group_by_keys()(data)\n",
    "samples = list(data)\n",
    "print(list(samples[0].keys()))"
   ]
  },
  {
   "cell_type": "code",
   "execution_count": 4,
   "metadata": {},
   "outputs": [
    {
     "name": "stdout",
     "output_type": "stream",
     "text": [
      "-rw-r--r-- tmb/tmb           3 1969-12-31 16:00 10.cls\n",
      "-rw-rw-r-- tmb/tmb       75442 2018-04-16 10:21 10.png\n",
      "-rw-r--r-- tmb/tmb           9 1969-12-31 16:00 10.wnid\n",
      "-rw-r--r-- tmb/tmb           4 1969-12-31 16:00 10.xml\n",
      "-rw-r--r-- tmb/tmb           3 1969-12-31 16:00 12.cls\n",
      "-rw-rw-r-- tmb/tmb       80108 2018-04-16 10:21 12.png\n",
      "-rw-r--r-- tmb/tmb           9 1969-12-31 16:00 12.wnid\n",
      "tar: write error\n",
      "10.png\n",
      "10.png: PNG image data, 600 x 793, 8-bit/color RGB, non-interlaced\n"
     ]
    }
   ],
   "source": [
    "!tar -ztvf testdata/imagenet-000000.tgz | sed 7q\n",
    "!tar xvf testdata/imagenet-000000.tgz 10.png\n",
    "!file 10.png"
   ]
  },
  {
   "cell_type": "code",
   "execution_count": 5,
   "metadata": {},
   "outputs": [
    {
     "name": "stdout",
     "output_type": "stream",
     "text": [
      "['__key__', 'cls', 'png', 'wnid', 'xml']\n"
     ]
    }
   ],
   "source": [
    "stream = open(\"testdata/imagenet-000000.tgz\", \"rb\")\n",
    "data = tarrecords.tardata(stream)\n",
    "data = tarrecords.group_by_keys()(data)\n",
    "data = tarrecords.decoder()(data)\n",
    "samples = list(data)\n",
    "print(list(samples[0].keys()))"
   ]
  },
  {
   "cell_type": "code",
   "execution_count": 6,
   "metadata": {},
   "outputs": [],
   "source": [
    "stream = open(\"testdata/imagenet-000000.tgz\", \"rb\")\n",
    "data = tarrecords.tariterator1(stream)\n",
    "samples = list(data)\n",
    "assert len(samples)==47\n",
    "assert samples[0][\"__key__\"] == \"10\", samples[0][\"__key__\"]\n",
    "assert set(samples[3].keys()) == set(\"__key__ png cls xml wnid\".split()), list(samples[3].keys())\n",
    "assert samples[-1][\"png\"].shape == (400, 300, 3)"
   ]
  },
  {
   "cell_type": "code",
   "execution_count": 7,
   "metadata": {},
   "outputs": [],
   "source": [
    "stream = open(\"testdata/imagenet-000000.tgz\", \"rb\")\n",
    "data = tarrecords.tariterator(stream)\n",
    "samples = list(data)\n",
    "assert len(samples)==47\n",
    "for i in range(len(samples)):\n",
    "    assert samples[i][\"png\"].dtype == np.dtype('f'), samples[i][\"png\"].dtype\n",
    "    assert np.amin(samples[i][\"png\"]) >= 0, np.amin(samples[i][\"png\"])\n",
    "    assert np.amin(samples[i][\"png\"]) <= 1, np.amax(samples[i][\"png\"])\n",
    "assert samples[0][\"__key__\"] == \"10\"\n",
    "assert set(samples[3].keys()) == set(\"__key__ __source__ cls png xml wnid\".split()), list(samples[3].keys())\n",
    "assert samples[-1][\"png\"].shape == (400, 300, 3)"
   ]
  },
  {
   "cell_type": "code",
   "execution_count": 8,
   "metadata": {},
   "outputs": [
    {
     "name": "stdout",
     "output_type": "stream",
     "text": [
      "-rw-r--r-- 1 tmb tmb 12993065 Mar 26 11:31 /tmp/test.tgz\r\n"
     ]
    }
   ],
   "source": [
    "stream = open(\"/tmp/test.tgz\", \"wb\")\n",
    "sink = tarrecords.TarWriter(stream)\n",
    "for sample in samples:\n",
    "    sink.write(sample)\n",
    "sink.close()\n",
    "stream.close()\n",
    "!ls -l /tmp/test.tgz"
   ]
  },
  {
   "cell_type": "code",
   "execution_count": 9,
   "metadata": {},
   "outputs": [],
   "source": [
    "stream = open(\"/tmp/test.tgz\", \"rb\")\n",
    "data = tarrecords.tariterator(stream)\n",
    "samples = list(data)\n",
    "assert len(samples)==47\n",
    "assert samples[0][\"__key__\"] == \"10\"\n",
    "assert set(samples[3].keys()) == set(\"__key__ __source__ cls png xml wnid\".split()), list(samples[3].keys())\n",
    "assert samples[-1][\"png\"].shape == (400, 300, 3)"
   ]
  },
  {
   "cell_type": "code",
   "execution_count": null,
   "metadata": {},
   "outputs": [],
   "source": []
  }
 ],
 "metadata": {
  "kernelspec": {
   "display_name": "Python 3",
   "language": "python",
   "name": "python3"
  },
  "language_info": {
   "codemirror_mode": {
    "name": "ipython",
    "version": 3
   },
   "file_extension": ".py",
   "mimetype": "text/x-python",
   "name": "python",
   "nbconvert_exporter": "python",
   "pygments_lexer": "ipython3",
   "version": "3.6.7"
  }
 },
 "nbformat": 4,
 "nbformat_minor": 2
}
