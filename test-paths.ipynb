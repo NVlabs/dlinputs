{
 "cells": [
  {
   "cell_type": "code",
   "execution_count": 2,
   "metadata": {},
   "outputs": [
    {
     "data": {
      "text/plain": [
       "<module 'dlinputs.paths' from 'dlinputs/paths.pyc'>"
      ]
     },
     "execution_count": 2,
     "metadata": {},
     "output_type": "execute_result"
    }
   ],
   "source": [
    "from dlinputs import paths\n",
    "reload(paths)"
   ]
  },
  {
   "cell_type": "code",
   "execution_count": 3,
   "metadata": {},
   "outputs": [],
   "source": [
    "assert paths.split_sharded_path(\"http://server/a-@010-b\") == ('http://server/a-%03d-b', 10)"
   ]
  },
  {
   "cell_type": "code",
   "execution_count": 4,
   "metadata": {},
   "outputs": [],
   "source": [
    "assert paths.split_sharded_path(\"http://server/a-010-b\") == ('http://server/a-010-b', None)"
   ]
  },
  {
   "cell_type": "code",
   "execution_count": 5,
   "metadata": {},
   "outputs": [],
   "source": [
    "assert len(list(paths.path_shards(\"http://server/a-@010-b\"))) == 10"
   ]
  },
  {
   "cell_type": "code",
   "execution_count": 6,
   "metadata": {},
   "outputs": [
    {
     "name": "stdout",
     "output_type": "stream",
     "text": [
      "trying /etc/lib\n",
      "trying /bin/lib\n",
      "trying /usr/lib\n"
     ]
    }
   ],
   "source": [
    "assert paths.find_directory(\"/bar:/etc:/foo:/bin:/usr:/bam\", \"lib\", verbose=1) == \"/usr/lib\""
   ]
  },
  {
   "cell_type": "code",
   "execution_count": 7,
   "metadata": {},
   "outputs": [
    {
     "name": "stdout",
     "output_type": "stream",
     "text": [
      "trying /etc/ls\n",
      "trying /usr/bin/ls\n",
      "trying /bin/ls\n"
     ]
    }
   ],
   "source": [
    "assert paths.find_file(\"/bar:/etc:/usr/bin:/foo:/bin:/usr:/bam\", \"ls\", verbose=1) == \"/bin/ls\""
   ]
  },
  {
   "cell_type": "code",
   "execution_count": 8,
   "metadata": {},
   "outputs": [],
   "source": [
    "paths.writefile(\"/tmp/abc\", \"def\")\n",
    "assert paths.readfile(\"/tmp/abc\") == \"def\""
   ]
  },
  {
   "cell_type": "code",
   "execution_count": 9,
   "metadata": {},
   "outputs": [],
   "source": [
    "assert paths.splitallext(\"a/b/c.d.e\") == (\"a/b/c\", \"d.e\")"
   ]
  },
  {
   "cell_type": "code",
   "execution_count": 10,
   "metadata": {},
   "outputs": [
    {
     "name": "stdout",
     "output_type": "stream",
     "text": [
      "10.png\t\t\t server.py\t     test-paths.ipynb\n",
      "README.rst\t\t setup.py\t     test-paths.md\n",
      "build\t\t\t shardindex\t     test-tarrecords.ipynb\n",
      "dlinputs\t\t show-input\t     test-tarrecords.md\n",
      "docs\t\t\t split-input.~1~     test-utils.ipynb\n",
      "dump-to-tarshards\t split-input.~2~     test-utils.md\n",
      "input-sample.py\t\t tarshards\t     test.py\n",
      "intro-to-dlinputs.ipynb  tarsplit\t     testdata\n",
      "legacy-inputs.ipynb\t test-filters.ipynb  testnot-zcom.ipynb\n",
      "lsmodel\t\t\t test-filters.md     training-test-split\n",
      "misc_tests.ipynb\t test-gopen.ipynb    training-test-split.~1~\n",
      "run-tests\t\t test-gopen.md\t     transform-input\n"
     ]
    }
   ],
   "source": [
    "!ls"
   ]
  },
  {
   "cell_type": "code",
   "execution_count": 11,
   "metadata": {},
   "outputs": [
    {
     "ename": "AssertionError",
     "evalue": "53",
     "output_type": "error",
     "traceback": [
      "\u001b[0;31m---------------------------------------------------------------------------\u001b[0m",
      "\u001b[0;31mAssertionError\u001b[0m                            Traceback (most recent call last)",
      "\u001b[0;32m<ipython-input-11-5512ef4347b0>\u001b[0m in \u001b[0;36m<module>\u001b[0;34m()\u001b[0m\n\u001b[1;32m      1\u001b[0m \u001b[0mbasenames\u001b[0m \u001b[0;34m=\u001b[0m \u001b[0mlist\u001b[0m\u001b[0;34m(\u001b[0m\u001b[0mpaths\u001b[0m\u001b[0;34m.\u001b[0m\u001b[0mfind_basenames\u001b[0m\u001b[0;34m(\u001b[0m\u001b[0;34m\"testdata\"\u001b[0m\u001b[0;34m,\u001b[0m \u001b[0;34m\"png\"\u001b[0m\u001b[0;34m)\u001b[0m\u001b[0;34m)\u001b[0m\u001b[0;34m\u001b[0m\u001b[0m\n\u001b[0;32m----> 2\u001b[0;31m \u001b[0;32massert\u001b[0m \u001b[0mlen\u001b[0m\u001b[0;34m(\u001b[0m\u001b[0mbasenames\u001b[0m\u001b[0;34m)\u001b[0m \u001b[0;34m==\u001b[0m \u001b[0;36m6\u001b[0m\u001b[0;34m,\u001b[0m \u001b[0mlen\u001b[0m\u001b[0;34m(\u001b[0m\u001b[0mbasenames\u001b[0m\u001b[0;34m)\u001b[0m\u001b[0;34m\u001b[0m\u001b[0m\n\u001b[0m",
      "\u001b[0;31mAssertionError\u001b[0m: 53"
     ]
    }
   ],
   "source": [
    "basenames = list(paths.find_basenames(\"testdata\", \"png\"))\n",
    "assert len(basenames) == 6, len(basenames)"
   ]
  },
  {
   "cell_type": "code",
   "execution_count": null,
   "metadata": {},
   "outputs": [],
   "source": [
    "reload(paths)\n",
    "assert paths.make_save_path(\"prefix\", 5000, 0.1) == 'prefix-000000005-100000.pt'"
   ]
  },
  {
   "cell_type": "code",
   "execution_count": null,
   "metadata": {},
   "outputs": [],
   "source": [
    "n, e = paths.parse_save_path('prefix-000000005-100000.pt')\n",
    "assert n == 5000\n",
    "assert abs(e - 0.1) < 1e-9"
   ]
  },
  {
   "cell_type": "code",
   "execution_count": null,
   "metadata": {},
   "outputs": [],
   "source": [
    "# spliturl"
   ]
  },
  {
   "cell_type": "code",
   "execution_count": null,
   "metadata": {},
   "outputs": [],
   "source": [
    "# read_url_path"
   ]
  },
  {
   "cell_type": "code",
   "execution_count": null,
   "metadata": {},
   "outputs": [],
   "source": [
    "# findurl"
   ]
  },
  {
   "cell_type": "code",
   "execution_count": null,
   "metadata": {},
   "outputs": [],
   "source": [
    "# openurl"
   ]
  },
  {
   "cell_type": "code",
   "execution_count": null,
   "metadata": {},
   "outputs": [],
   "source": [
    "# find_url"
   ]
  },
  {
   "cell_type": "code",
   "execution_count": null,
   "metadata": {},
   "outputs": [],
   "source": [
    "# read_shards"
   ]
  },
  {
   "cell_type": "code",
   "execution_count": null,
   "metadata": {},
   "outputs": [],
   "source": [
    "# extract_shards"
   ]
  },
  {
   "cell_type": "code",
   "execution_count": null,
   "metadata": {},
   "outputs": [],
   "source": [
    "# iterate_shards"
   ]
  },
  {
   "cell_type": "code",
   "execution_count": null,
   "metadata": {},
   "outputs": [],
   "source": []
  }
 ],
 "metadata": {
  "kernelspec": {
   "display_name": "Python 2",
   "language": "python",
   "name": "python2"
  },
  "language_info": {
   "codemirror_mode": {
    "name": "ipython",
    "version": 2
   },
   "file_extension": ".py",
   "mimetype": "text/x-python",
   "name": "python",
   "nbconvert_exporter": "python",
   "pygments_lexer": "ipython2",
   "version": "2.7.12"
  }
 },
 "nbformat": 4,
 "nbformat_minor": 2
}
