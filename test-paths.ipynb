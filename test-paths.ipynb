{
 "cells": [
  {
   "cell_type": "code",
   "execution_count": 1,
   "metadata": {},
   "outputs": [
    {
     "data": {
      "text/plain": [
       "<module 'dlinputs.paths' from 'dlinputs/paths.pyc'>"
      ]
     },
     "execution_count": 1,
     "metadata": {},
     "output_type": "execute_result"
    }
   ],
   "source": [
    "from dlinputs import paths\n",
    "reload(paths)"
   ]
  },
  {
   "cell_type": "code",
   "execution_count": 2,
   "metadata": {},
   "outputs": [],
   "source": [
    "assert paths.split_sharded_path(\"http://server/a-@010-b\") == ('http://server/a-%03d-b', 10)"
   ]
  },
  {
   "cell_type": "code",
   "execution_count": 3,
   "metadata": {},
   "outputs": [],
   "source": [
    "assert paths.split_sharded_path(\"http://server/a-010-b\") == ('http://server/a-010-b', None)"
   ]
  },
  {
   "cell_type": "code",
   "execution_count": 4,
   "metadata": {},
   "outputs": [],
   "source": [
    "assert len(list(paths.path_shards(\"http://server/a-@010-b\"))) == 10"
   ]
  },
  {
   "cell_type": "code",
   "execution_count": 5,
   "metadata": {},
   "outputs": [
    {
     "name": "stdout",
     "output_type": "stream",
     "text": [
      "trying /etc/lib\n",
      "trying /bin/lib\n",
      "trying /usr/lib\n"
     ]
    }
   ],
   "source": [
    "assert paths.find_directory(\"/bar:/etc:/foo:/bin:/usr:/bam\", \"lib\", verbose=1) == \"/usr/lib\""
   ]
  },
  {
   "cell_type": "code",
   "execution_count": 6,
   "metadata": {},
   "outputs": [
    {
     "name": "stdout",
     "output_type": "stream",
     "text": [
      "trying /etc/ls\n",
      "trying /usr/bin/ls\n",
      "trying /bin/ls\n"
     ]
    }
   ],
   "source": [
    "assert paths.find_file(\"/bar:/etc:/usr/bin:/foo:/bin:/usr:/bam\", \"ls\", verbose=1) == \"/bin/ls\""
   ]
  },
  {
   "cell_type": "code",
   "execution_count": 7,
   "metadata": {},
   "outputs": [],
   "source": [
    "paths.writefile(\"/tmp/abc\", \"def\")\n",
    "assert paths.readfile(\"/tmp/abc\") == \"def\""
   ]
  },
  {
   "cell_type": "code",
   "execution_count": 8,
   "metadata": {},
   "outputs": [],
   "source": [
    "assert paths.splitallext(\"a/b/c.d.e\") == (\"a/b/c\", \"d.e\")"
   ]
  },
  {
   "cell_type": "code",
   "execution_count": 9,
   "metadata": {},
   "outputs": [
    {
     "name": "stdout",
     "output_type": "stream",
     "text": [
      "10.png\t\t\t shardindex\t     test-tarrecords.ipynb\n",
      "README.rst\t\t show-input\t     test-tarrecords.md\n",
      "build\t\t\t split-input.~1~     test-utils.ipynb\n",
      "dlinputs\t\t split-input.~2~     test-utils.md\n",
      "docs\t\t\t tarshards\t     test.py\n",
      "dump-to-tarshards\t tarsplit\t     testdata\n",
      "input-sample.py\t\t test-filters.ipynb  testnot-zcom.ipynb\n",
      "intro-to-dlinputs.ipynb  test-filters.md     training-test-split\n",
      "misc_tests.ipynb\t test-gopen.ipynb    training-test-split.~1~\n",
      "run-tests\t\t test-gopen.md\t     transform-input\n",
      "server.py\t\t test-paths.ipynb\n",
      "setup.py\t\t test-paths.md\n"
     ]
    }
   ],
   "source": [
    "!ls"
   ]
  },
  {
   "cell_type": "code",
   "execution_count": 13,
   "metadata": {},
   "outputs": [],
   "source": [
    "result = list(paths.find_basenames(\"testdata\", \"png\"))\n",
    "assert len(result) == 53, len(result)"
   ]
  },
  {
   "cell_type": "code",
   "execution_count": null,
   "metadata": {},
   "outputs": [],
   "source": [
    "# spliturl"
   ]
  },
  {
   "cell_type": "code",
   "execution_count": null,
   "metadata": {},
   "outputs": [],
   "source": [
    "# read_url_path"
   ]
  },
  {
   "cell_type": "code",
   "execution_count": null,
   "metadata": {},
   "outputs": [],
   "source": [
    "# findurl"
   ]
  },
  {
   "cell_type": "code",
   "execution_count": null,
   "metadata": {},
   "outputs": [],
   "source": [
    "# openurl"
   ]
  },
  {
   "cell_type": "code",
   "execution_count": null,
   "metadata": {},
   "outputs": [],
   "source": [
    "# find_url"
   ]
  },
  {
   "cell_type": "code",
   "execution_count": null,
   "metadata": {},
   "outputs": [],
   "source": [
    "# read_shards"
   ]
  },
  {
   "cell_type": "code",
   "execution_count": null,
   "metadata": {},
   "outputs": [],
   "source": [
    "# extract_shards"
   ]
  },
  {
   "cell_type": "code",
   "execution_count": null,
   "metadata": {},
   "outputs": [],
   "source": [
    "# iterate_shards"
   ]
  },
  {
   "cell_type": "code",
   "execution_count": null,
   "metadata": {},
   "outputs": [],
   "source": []
  }
 ],
 "metadata": {
  "kernelspec": {
   "display_name": "Python 2",
   "language": "python",
   "name": "python2"
  },
  "language_info": {
   "codemirror_mode": {
    "name": "ipython",
    "version": 2
   },
   "file_extension": ".py",
   "mimetype": "text/x-python",
   "name": "python",
   "nbconvert_exporter": "python",
   "pygments_lexer": "ipython2",
   "version": "2.7.12"
  }
 },
 "nbformat": 4,
 "nbformat_minor": 2
}
