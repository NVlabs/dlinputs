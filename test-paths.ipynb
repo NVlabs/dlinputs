{
 "cells": [
  {
   "cell_type": "code",
   "execution_count": 1,
   "metadata": {},
   "outputs": [
    {
     "data": {
      "text/plain": [
       "<module 'dlinputs.paths' from 'dlinputs/paths.pyc'>"
      ]
     },
     "execution_count": 1,
     "metadata": {},
     "output_type": "execute_result"
    }
   ],
   "source": [
    "from dlinputs import paths\n",
    "reload(paths)"
   ]
  },
  {
   "cell_type": "code",
   "execution_count": 3,
   "metadata": {},
   "outputs": [],
   "source": [
    "assert paths.split_sharded_path(\"http://server/a-@010-b\") == ('http://server/a-%03d-b', 10)"
   ]
  },
  {
   "cell_type": "code",
   "execution_count": 4,
   "metadata": {},
   "outputs": [],
   "source": [
    "assert paths.split_sharded_path(\"http://server/a-010-b\") == ('http://server/a-010-b', None)"
   ]
  },
  {
   "cell_type": "code",
   "execution_count": 7,
   "metadata": {},
   "outputs": [],
   "source": [
    "assert len(list(paths.path_shards(\"http://server/a-@010-b\"))) == 10"
   ]
  },
  {
   "cell_type": "code",
   "execution_count": 20,
   "metadata": {},
   "outputs": [
    {
     "name": "stdout",
     "output_type": "stream",
     "text": [
      "trying /etc/lib\n",
      "trying /bin/lib\n",
      "trying /usr/lib\n"
     ]
    }
   ],
   "source": [
    "assert paths.find_directory(\"/bar:/etc:/foo:/bin:/usr:/bam\", \"lib\", verbose=1) == \"/usr/lib\""
   ]
  },
  {
   "cell_type": "code",
   "execution_count": 19,
   "metadata": {},
   "outputs": [
    {
     "name": "stdout",
     "output_type": "stream",
     "text": [
      "trying /etc/ls\n",
      "trying /usr/bin/ls\n",
      "trying /bin/ls\n"
     ]
    }
   ],
   "source": [
    "assert paths.find_file(\"/bar:/etc:/usr/bin:/foo:/bin:/usr:/bam\", \"ls\", verbose=1) == \"/bin/ls\""
   ]
  },
  {
   "cell_type": "code",
   "execution_count": 24,
   "metadata": {},
   "outputs": [],
   "source": [
    "paths.writefile(\"/tmp/abc\", \"def\")\n",
    "assert paths.readfile(\"/tmp/abc\") == \"def\""
   ]
  },
  {
   "cell_type": "code",
   "execution_count": 28,
   "metadata": {},
   "outputs": [],
   "source": [
    "assert paths.splitallext(\"a/b/c.d.e\") == (\"a/b/c\", \"d.e\")"
   ]
  },
  {
   "cell_type": "code",
   "execution_count": 29,
   "metadata": {},
   "outputs": [
    {
     "name": "stdout",
     "output_type": "stream",
     "text": [
      "README.rst\t   input-sample.pyc\t    test-cdip.pyc\n",
      "Untitled.ipynb\t   intro-to-dlinputs.ipynb  test-cdip2.py\n",
      "basenames\t   misc_tests.ipynb\t    test-cdip2.pyc\n",
      "build\t\t   process_sample.py.~1~    test-filters.ipynb\n",
      "dask-worker-space  process_sample.pyc\t    test-paths.ipynb\n",
      "dlinputs\t   server.py\t\t    test-tarrecords.ipynb\n",
      "docs\t\t   setup.py\t\t    test-utils.ipynb\n",
      "dprocess.~1~\t   shardindex\t\t    test.py\n",
      "dprocess.~2~\t   show-input\t\t    test.tgz\n",
      "dprocess.~3~\t   show-model\t\t    testdata\n",
      "dump-to-tarshards  tarshards\t\t    xdprocess\n",
      "foo\t\t   tarsplit\n",
      "input-sample.py    test-cdip.py\n"
     ]
    }
   ],
   "source": [
    "!ls"
   ]
  },
  {
   "cell_type": "code",
   "execution_count": 34,
   "metadata": {},
   "outputs": [],
   "source": [
    "assert len(list(paths.find_basenames(\"testdata\", \"png\"))) == 6"
   ]
  },
  {
   "cell_type": "code",
   "execution_count": 9,
   "metadata": {},
   "outputs": [],
   "source": [
    "reload(paths)\n",
    "assert paths.make_save_path(\"prefix\", 5000, 0.1) == 'prefix-000000005-100000.pt'"
   ]
  },
  {
   "cell_type": "code",
   "execution_count": 11,
   "metadata": {},
   "outputs": [],
   "source": [
    "n, e = paths.parse_save_path('prefix-000000005-100000.pt')\n",
    "assert n == 5000\n",
    "assert abs(e - 0.1) < 1e-9"
   ]
  },
  {
   "cell_type": "code",
   "execution_count": 35,
   "metadata": {},
   "outputs": [],
   "source": [
    "# spliturl"
   ]
  },
  {
   "cell_type": "code",
   "execution_count": 36,
   "metadata": {},
   "outputs": [],
   "source": [
    "# read_url_path"
   ]
  },
  {
   "cell_type": "code",
   "execution_count": 37,
   "metadata": {},
   "outputs": [],
   "source": [
    "# findurl"
   ]
  },
  {
   "cell_type": "code",
   "execution_count": 38,
   "metadata": {},
   "outputs": [],
   "source": [
    "# openurl"
   ]
  },
  {
   "cell_type": "code",
   "execution_count": 39,
   "metadata": {},
   "outputs": [],
   "source": [
    "# find_url"
   ]
  },
  {
   "cell_type": "code",
   "execution_count": 40,
   "metadata": {},
   "outputs": [],
   "source": [
    "# read_shards"
   ]
  },
  {
   "cell_type": "code",
   "execution_count": 41,
   "metadata": {},
   "outputs": [],
   "source": [
    "# extract_shards"
   ]
  },
  {
   "cell_type": "code",
   "execution_count": 42,
   "metadata": {},
   "outputs": [],
   "source": [
    "# iterate_shards"
   ]
  },
  {
   "cell_type": "code",
   "execution_count": null,
   "metadata": {},
   "outputs": [],
   "source": []
  }
 ],
 "metadata": {
  "kernelspec": {
   "display_name": "Python 2",
   "language": "python",
   "name": "python2"
  },
  "language_info": {
   "codemirror_mode": {
    "name": "ipython",
    "version": 2
   },
   "file_extension": ".py",
   "mimetype": "text/x-python",
   "name": "python",
   "nbconvert_exporter": "python",
   "pygments_lexer": "ipython2",
   "version": "2.7.12"
  }
 },
 "nbformat": 4,
 "nbformat_minor": 2
}
