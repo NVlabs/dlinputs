{
 "cells": [
  {
   "cell_type": "code",
   "execution_count": 4,
   "metadata": {},
   "outputs": [],
   "source": [
    "from dlinputs import utils\n",
    "import numpy as np"
   ]
  },
  {
   "cell_type": "code",
   "execution_count": 10,
   "metadata": {},
   "outputs": [],
   "source": [
    "assert utils.make_gray(np.zeros((400, 300, 3))).shape == (400, 300)\n",
    "assert utils.make_gray(np.zeros((400, 300))).shape == (400, 300)\n",
    "assert utils.make_gray(np.zeros((400, 300, 4))).shape == (400, 300)"
   ]
  },
  {
   "cell_type": "code",
   "execution_count": 12,
   "metadata": {},
   "outputs": [],
   "source": [
    "assert utils.make_rgb(np.zeros((400, 300, 3))).shape == (400, 300, 3)\n",
    "assert utils.make_rgb(np.zeros((400, 300))).shape == (400, 300, 3)\n",
    "assert utils.make_rgb(np.zeros((400, 300, 4))).shape == (400, 300, 3)"
   ]
  },
  {
   "cell_type": "code",
   "execution_count": 13,
   "metadata": {},
   "outputs": [],
   "source": [
    "assert utils.make_rgba(np.zeros((400, 300, 3))).shape == (400, 300, 4)\n",
    "assert utils.make_rgba(np.zeros((400, 300))).shape == (400, 300, 4)\n",
    "assert utils.make_rgba(np.zeros((400, 300, 4))).shape == (400, 300, 4)"
   ]
  },
  {
   "cell_type": "code",
   "execution_count": 14,
   "metadata": {},
   "outputs": [],
   "source": [
    "d = dict(a=1, b=2, c=3)\n",
    "rd = utils.invert_mapping(d)\n",
    "assert rd[1] == \"a\""
   ]
  },
  {
   "cell_type": "code",
   "execution_count": 15,
   "metadata": {},
   "outputs": [],
   "source": [
    "d = utils.get_string_mapping(\"a=x:b=y:c=z\")\n",
    "assert d[\"a\"] == \"x\""
   ]
  },
  {
   "cell_type": "code",
   "execution_count": 20,
   "metadata": {},
   "outputs": [],
   "source": [
    "image = np.zeros((400, 300, 3))\n",
    "png = utils.pildumps(image)\n",
    "image1 = utils.pilreads(png, \"rgb\")\n",
    "assert image.shape == image1.shape\n",
    "assert (image == image1).all()"
   ]
  },
  {
   "cell_type": "code",
   "execution_count": 22,
   "metadata": {},
   "outputs": [],
   "source": [
    "image = np.zeros((400, 300, 3))\n",
    "png = utils.pildumps(image)\n",
    "image1 = utils.pilreads(png, \"gray\")\n",
    "assert image.shape[:2] == image1.shape"
   ]
  },
  {
   "cell_type": "code",
   "execution_count": 28,
   "metadata": {},
   "outputs": [],
   "source": [
    "sample = dict(png=np.zeros((400, 300, 3)))\n",
    "raw = utils.autoencode(sample)\n",
    "sample1 = utils.autodecode(raw)\n",
    "assert (sample[\"png\"] == sample1[\"png\"]).all()"
   ]
  },
  {
   "cell_type": "code",
   "execution_count": 30,
   "metadata": {},
   "outputs": [],
   "source": [
    "samples = [dict(png=np.zeros((400, 300, 3)))] * 10\n",
    "batch = utils.samples_to_batch(samples)\n",
    "assert batch[\"png\"].shape == (10, 400, 300, 3)"
   ]
  },
  {
   "cell_type": "code",
   "execution_count": null,
   "metadata": {},
   "outputs": [],
   "source": []
  }
 ],
 "metadata": {
  "kernelspec": {
   "display_name": "Python 2",
   "language": "python",
   "name": "python2"
  },
  "language_info": {
   "codemirror_mode": {
    "name": "ipython",
    "version": 2
   },
   "file_extension": ".py",
   "mimetype": "text/x-python",
   "name": "python",
   "nbconvert_exporter": "python",
   "pygments_lexer": "ipython2",
   "version": "2.7.12"
  }
 },
 "nbformat": 4,
 "nbformat_minor": 2
}
