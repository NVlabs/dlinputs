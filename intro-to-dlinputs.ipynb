{
 "cells": [
  {
   "cell_type": "code",
   "execution_count": 1,
   "metadata": {},
   "outputs": [
    {
     "name": "stdout",
     "output_type": "stream",
     "text": [
      "Populating the interactive namespace from numpy and matplotlib\n"
     ]
    }
   ],
   "source": [
    "%pylab inline\n",
    "import numpy as np\n",
    "import scipy as sc\n",
    "import scipy.ndimage as ndi\n",
    "import pylab as pl\n",
    "import matplotlib as mpl\n",
    "from IPython import display\n",
    "from itertools import islice\n",
    "rc(\"image\", cmap=\"gray\")\n",
    "import dlinputs as dli"
   ]
  },
  {
   "cell_type": "code",
   "execution_count": 2,
   "metadata": {},
   "outputs": [
    {
     "name": "stdout",
     "output_type": "stream",
     "text": [
      "imagenet-000000.tgz  nohup.out\tsample.shards  uw3small.db\r\n",
      "imagenet.shards      sample.db\tsample.tgz\r\n"
     ]
    }
   ],
   "source": [
    "!ls testdata"
   ]
  },
  {
   "cell_type": "markdown",
   "metadata": {},
   "source": [
    "# Database Reader\n",
    "\n",
    "Sqlite databases are convenient for local datasets. They can be up to several terabytes large. `itsqlite` returns dictionaries containing\n",
    "each column as a field."
   ]
  },
  {
   "cell_type": "code",
   "execution_count": 3,
   "metadata": {},
   "outputs": [
    {
     "name": "stdout",
     "output_type": "stream",
     "text": [
      "CREATE TABLE train (image blob, cls integer, inx integer);\r\n"
     ]
    }
   ],
   "source": [
    "!sqlite3 testdata/sample.db .schema"
   ]
  },
  {
   "cell_type": "code",
   "execution_count": 4,
   "metadata": {},
   "outputs": [
    {
     "name": "stdout",
     "output_type": "stream",
     "text": [
      "6\n"
     ]
    },
    {
     "data": {
      "image/png": "[encoded data removed]",
      "text/plain": [
       "<matplotlib.figure.Figure at 0x7f6b6c198050>"
      ]
     },
     "metadata": {},
     "output_type": "display_data"
    }
   ],
   "source": [
    "data = (dli.itsqlite(\"testdata/sample.db\") |\n",
    "        dli.itmap(image=dli.pilgray, cls=int))\n",
    "for sample in data:\n",
    "    imshow(sample[\"image\"])\n",
    "    print sample[\"cls\"]\n",
    "    break"
   ]
  },
  {
   "cell_type": "markdown",
   "metadata": {},
   "source": [
    "# Tar Record Files\n",
    "\n",
    "Tar record files are regular tar files. "
   ]
  },
  {
   "cell_type": "code",
   "execution_count": 5,
   "metadata": {},
   "outputs": [
    {
     "name": "stdout",
     "output_type": "stream",
     "text": [
      "-rw-r--r-- tmb/tmb           1 1970-01-01 00:00 10.cls\r\n",
      "-rw-r--r-- tmb/tmb         306 1970-01-01 00:00 10.png\r\n",
      "-rw-r--r-- tmb/tmb           1 1970-01-01 00:00 11.cls\r\n",
      "-rw-r--r-- tmb/tmb         345 1970-01-01 00:00 11.png\r\n",
      "-rw-r--r-- tmb/tmb           1 1970-01-01 00:00 12.cls\r\n",
      "tar: write error\r\n"
     ]
    }
   ],
   "source": [
    "!tar -ztvf testdata/sample.tgz | sed 5q"
   ]
  },
  {
   "cell_type": "markdown",
   "metadata": {},
   "source": [
    "Consecutive files with the same\n",
    "basename are returned as items in a dictionary; the extension is used\n",
    "as the key to each entry."
   ]
  },
  {
   "cell_type": "code",
   "execution_count": 6,
   "metadata": {},
   "outputs": [
    {
     "name": "stdout",
     "output_type": "stream",
     "text": [
      "['png', '__key__', 'cls']\n",
      "10\n",
      "'0'\n",
      "'\\x89PNG\\r\\n\\x1a\\n\\x00\\x00\\x00\n"
     ]
    }
   ],
   "source": [
    "data = dli.ittarreader(\"testdata/sample.tgz\")\n",
    "for sample in data:\n",
    "    print sample.keys()\n",
    "    print sample[\"__key__\"]\n",
    "    print repr(sample[\"cls\"])\n",
    "    print repr(sample[\"png\"])[:30]\n",
    "    break"
   ]
  },
  {
   "cell_type": "markdown",
   "metadata": {},
   "source": [
    "Usually, the output from an `ittarreader` is piped through something that decodes the string/buffer fields (`itmap`) and renames fields (`itren`). Decoders in `itmap` are just functions that map the contents of a field to new contents. The `dli.pilgray` function decodes a PNG-compressed image into a grayscale image represented as a numpy rank 2 array."
   ]
  },
  {
   "cell_type": "code",
   "execution_count": 7,
   "metadata": {},
   "outputs": [
    {
     "name": "stdout",
     "output_type": "stream",
     "text": [
      "0\n"
     ]
    },
    {
     "data": {
      "image/png": "[encoded data removed]",
      "text/plain": [
       "<matplotlib.figure.Figure at 0x7f6b6475e890>"
      ]
     },
     "metadata": {},
     "output_type": "display_data"
    }
   ],
   "source": [
    "data = (dli.ittarreader(\"testdata/sample.tgz\") |\n",
    "        dli.itmap(png=dli.pilgray, cls=int) |\n",
    "        dli.itren(image=\"png\", cls=\"cls\"))\n",
    "for sample in data:\n",
    "    imshow(sample[\"image\"])\n",
    "    print sample[\"cls\"]\n",
    "    break"
   ]
  },
  {
   "cell_type": "markdown",
   "metadata": {},
   "source": [
    "The `ittarreader` can also read from URLs. This can be any web server, although often it is an S3-compatible storage server like Minio, Minio XL, Ceph, or Swift.\n",
    "\n",
    "For desktop installations, the local Minio server is convenient."
   ]
  },
  {
   "cell_type": "code",
   "execution_count": 8,
   "metadata": {},
   "outputs": [
    {
     "name": "stdout",
     "output_type": "stream",
     "text": [
      "nohup: appending output to 'nohup.out'\r\n"
     ]
    }
   ],
   "source": [
    "!/bin/bash -c 'cd testdata && nohup python -m SimpleHTTPServer 9000 &'"
   ]
  },
  {
   "cell_type": "code",
   "execution_count": 9,
   "metadata": {
    "scrolled": true
   },
   "outputs": [
    {
     "name": "stdout",
     "output_type": "stream",
     "text": [
      "0\n"
     ]
    },
    {
     "data": {
      "image/png": "[encoded data removed]",
      "text/plain": [
       "<matplotlib.figure.Figure at 0x7f6b6475e7d0>"
      ]
     },
     "metadata": {},
     "output_type": "display_data"
    }
   ],
   "source": [
    "data = (dli.ittarreader(\"http://localhost:9000/sample.tgz\") |\n",
    "        dli.itmap(png=dli.pilgray, cls=int))\n",
    "for sample in data:\n",
    "    imshow(sample[\"png\"])\n",
    "    print sample[\"cls\"]\n",
    "    break"
   ]
  },
  {
   "cell_type": "markdown",
   "metadata": {},
   "source": [
    "# Sharded Files\n",
    "\n",
    "For larger datasets, sharding is a good idea. Shards are stored in JSON-formatted URLs."
   ]
  },
  {
   "cell_type": "code",
   "execution_count": 10,
   "metadata": {},
   "outputs": [
    {
     "name": "stdout",
     "output_type": "stream",
     "text": [
      "/bin/sh: 1: curl: not found\r\n"
     ]
    }
   ],
   "source": [
    "!curl -s http://localhost:9000/imagenet.shards | sed 10q"
   ]
  },
  {
   "cell_type": "markdown",
   "metadata": {},
   "source": [
    "Decoding is otherwise just like regular `ittarfile`. Note that the shard reader randomizes shard order by default."
   ]
  },
  {
   "cell_type": "code",
   "execution_count": 11,
   "metadata": {},
   "outputs": [
    {
     "name": "stdout",
     "output_type": "stream",
     "text": [
      "304\n"
     ]
    },
    {
     "data": {
      "image/png": "[encoded data removed]",
      "text/plain": [
       "<matplotlib.figure.Figure at 0x7f6b64f3aed0>"
      ]
     },
     "metadata": {},
     "output_type": "display_data"
    }
   ],
   "source": [
    "data = (dli.ittarshards(\"http://localhost:9000/imagenet.shards\") |\n",
    "        # dli.itinfo() |\n",
    "        dli.itmap(png=dli.pilrgb, cls=int))\n",
    "for sample in data:\n",
    "    imshow(sample[\"png\"])\n",
    "    print sample[\"cls\"]\n",
    "    break"
   ]
  },
  {
   "cell_type": "markdown",
   "metadata": {},
   "source": [
    "# Other Input Filters\n",
    "\n",
    "There are more pipeline components:\n",
    "\n",
    "- `itshuffle` shuffles samples inline\n",
    "- `itstandardize` performs image size standardization\n",
    "- `itbatch` performs batching of inputs\n",
    "\n",
    "More are being added to `dlpipes`, including in-memory and on-disk caching, more data augmentation, and distributed and parallel pipes."
   ]
  },
  {
   "cell_type": "code",
   "execution_count": 12,
   "metadata": {},
   "outputs": [
    {
     "name": "stdout",
     "output_type": "stream",
     "text": [
      "(5, 256, 256, 3)\n",
      "[551 165 304 180 625]\n"
     ]
    },
    {
     "data": {
      "image/png": "[encoded data removed]",
      "text/plain": [
       "<matplotlib.figure.Figure at 0x7f6b64e87590>"
      ]
     },
     "metadata": {},
     "output_type": "display_data"
    }
   ],
   "source": [
    "data = (dli.ittarshards(\"http://localhost:9000/imagenet.shards\") |\n",
    "        dli.itshuffle(1000) |\n",
    "        dli.itmap(png=dli.pilrgb, cls=int) |\n",
    "        dli.itren(image=\"png\", cls=\"cls\") |\n",
    "        dli.itstandardize((256,256)) |\n",
    "        dli.itbatch(5))\n",
    "for sample in data:\n",
    "    print sample[\"image\"].shape\n",
    "    imshow(sample[\"image\"][0])\n",
    "    print sample[\"cls\"]\n",
    "    break"
   ]
  },
  {
   "cell_type": "markdown",
   "metadata": {
    "collapsed": true
   },
   "source": [
    "# Loadable Inputs and Models\n",
    "\n",
    "In many applications, it's useful to separate the input pipelines and model definitions from the source code of the application. The `dlpipes.loadable` module addresses this problem. It allows input pipelines and models to be defined with arbitrary Python code, but to be imported by file name rather than using the `import` statement."
   ]
  },
  {
   "cell_type": "code",
   "execution_count": 13,
   "metadata": {},
   "outputs": [
    {
     "name": "stdout",
     "output_type": "stream",
     "text": [
      "#!/usr/bin/python\r\n",
      "\r\n",
      "from dlpipes import inputs as dli\r\n",
      "\r\n",
      "class Inputs(object):\r\n",
      "    def training_data(self, **kw):\r\n",
      "        return dli.itsqlite(\"testdata/sample.db\", **kw) | \\\r\n",
      "               dli.itmap(image=dli.pilreads, cls=int)\r\n"
     ]
    }
   ],
   "source": [
    "!cat input-sample.py"
   ]
  },
  {
   "cell_type": "markdown",
   "metadata": {},
   "source": [
    "Note that loadable input pipelines can be written using arbitrary Python code; they simply need to return Python iterators.\n",
    "\n",
    "Different partitions of the dataset may get different `*_data` methods. You generally should have at least `training_data` and `test_data`. All and only datasets should have methods ending in `_data`.\n",
    "\n",
    "Loadable input pipelines and models written in Python must end in `.py`; that's because the loader will eventually also load JSON and YAML definitions of pipelines and models."
   ]
  },
  {
   "cell_type": "code",
   "execution_count": 14,
   "metadata": {},
   "outputs": [
    {
     "name": "stdout",
     "output_type": "stream",
     "text": [
      "# epoch 0 dbfile testdata/sample.db\n"
     ]
    },
    {
     "data": {
      "text/plain": [
       "['image', 'inx', '__epoch__', 'cls']"
      ]
     },
     "execution_count": 14,
     "metadata": {},
     "output_type": "execute_result"
    }
   ],
   "source": [
    "factory = dli.loadable.load_input(\"input-sample.py\")\n",
    "training_data = factory.training_data()\n",
    "training_data.next().keys()"
   ]
  },
  {
   "cell_type": "markdown",
   "metadata": {},
   "source": [
    "Defining dataset iterators in this way allows us to create useful tools that operate over datasets. For example, `show-input` provides information about a dataset iterators; optionally, it can also benchmark. There are other tools for broadcasting datasets over the network, dumping them into sharded files, etc."
   ]
  },
  {
   "cell_type": "code",
   "execution_count": 15,
   "metadata": {
    "scrolled": true
   },
   "outputs": [
    {
     "name": "stdout",
     "output_type": "stream",
     "text": [
      "datasets: training\r\n",
      "showing: training\r\n",
      "\r\n",
      "# epoch 0 dbfile testdata/sample.db\r\n",
      "      __epoch__ 0\r\n",
      "            cls 6\r\n",
      "          image (28, 28) [0.0,1.0] 0.128111(0.300329773671)\r\n",
      "            inx 999\r\n"
     ]
    }
   ],
   "source": [
    "!./show-input input-sample.py"
   ]
  },
  {
   "cell_type": "markdown",
   "metadata": {},
   "source": [
    "# Client Server Pipelines"
   ]
  },
  {
   "cell_type": "markdown",
   "metadata": {},
   "source": [
    "It is often useful to run some preprocessing code distributed on multiple CPU-only servers, then send the data on to the deep learning model on a GPU machine. The `zmqserver` and `itzmq` functions make this easy. These functions use a simple and time-efficient encoding of tensors in multipart ZMQ messages. With `itzmq`, it is also easily possible to connect to ZMQ-based servers written in other languages, to build efficient PUB/SUB training pipelines for training many models simultaneously, to build efficient wide area distribution trees for training data across data centers."
   ]
  },
  {
   "cell_type": "code",
   "execution_count": 16,
   "metadata": {},
   "outputs": [
    {
     "name": "stdout",
     "output_type": "stream",
     "text": [
      "Overwriting server.py\n"
     ]
    }
   ],
   "source": [
    "%%writefile server.py\n",
    "import dlinputs as dli\n",
    "data = dli.ittarreader(\"testdata/sample.tgz\") | \\\n",
    "       dli.itmap(png=dli.pilrgb, cls=int)\n",
    "dli.zmqserver(data, bind=\"tcp://*:17006\")"
   ]
  },
  {
   "cell_type": "code",
   "execution_count": 17,
   "metadata": {
    "collapsed": true
   },
   "outputs": [],
   "source": [
    "!/bin/bash -c 'python ./server.py &'"
   ]
  },
  {
   "cell_type": "code",
   "execution_count": 18,
   "metadata": {},
   "outputs": [
    {
     "data": {
      "text/plain": [
       "<matplotlib.image.AxesImage at 0x7f6b645cedd0>"
      ]
     },
     "execution_count": 18,
     "metadata": {},
     "output_type": "execute_result"
    },
    {
     "data": {
      "image/png": "[encoded data removed]",
      "text/plain": [
       "<matplotlib.figure.Figure at 0x7f6b64eb53d0>"
      ]
     },
     "metadata": {},
     "output_type": "display_data"
    }
   ],
   "source": [
    "data = dli.itzmq(connect=\"tcp://localhost:17006\")\n",
    "imshow(data.next()[\"png\"])"
   ]
  },
  {
   "cell_type": "markdown",
   "metadata": {},
   "source": [
    "# Parallelizing Input Pipelines"
   ]
  },
  {
   "cell_type": "code",
   "execution_count": 19,
   "metadata": {},
   "outputs": [
    {
     "data": {
      "text/plain": [
       "<matplotlib.image.AxesImage at 0x7f6b645888d0>"
      ]
     },
     "execution_count": 19,
     "metadata": {},
     "output_type": "execute_result"
    },
    {
     "data": {
      "image/png": "[encoded data removed]",
      "text/plain": [
       "<matplotlib.figure.Figure at 0x7f6b645ce890>"
      ]
     },
     "metadata": {},
     "output_type": "display_data"
    }
   ],
   "source": [
    "def factory():\n",
    "    return dli.itsqlite(\"testdata/sample.db\") | \\\n",
    "           dli.itmap(image=dli.pilreads, cls=int)\n",
    "data = factory()\n",
    "imshow(data.next()[\"image\"])"
   ]
  },
  {
   "cell_type": "code",
   "execution_count": 20,
   "metadata": {},
   "outputs": [
    {
     "data": {
      "text/plain": [
       "<matplotlib.image.AxesImage at 0x7f6b64458b90>"
      ]
     },
     "execution_count": 20,
     "metadata": {},
     "output_type": "execute_result"
    },
    {
     "data": {
      "image/png": "[encoded data removed]",
      "text/plain": [
       "<matplotlib.figure.Figure at 0x7f6b64458590>"
      ]
     },
     "metadata": {},
     "output_type": "display_data"
    }
   ],
   "source": [
    "data = dli.parallel.parallelize_input(factory, 4)\n",
    "imshow(data.next()[\"image\"])"
   ]
  },
  {
   "cell_type": "code",
   "execution_count": null,
   "metadata": {
    "collapsed": true
   },
   "outputs": [],
   "source": []
  }
 ],
 "metadata": {
  "kernelspec": {
   "display_name": "Python 2",
   "language": "python",
   "name": "python2"
  },
  "language_info": {
   "codemirror_mode": {
    "name": "ipython",
    "version": 2
   },
   "file_extension": ".py",
   "mimetype": "text/x-python",
   "name": "python",
   "nbconvert_exporter": "python",
   "pygments_lexer": "ipython2",
   "version": "2.7.12"
  }
 },
 "nbformat": 4,
 "nbformat_minor": 1
}
